{
 "cells": [
  {
   "cell_type": "code",
   "execution_count": 19,
   "metadata": {},
   "outputs": [
    {
     "name": "stdout",
     "output_type": "stream",
     "text": [
      "https://blockchain.info/block-height/532365?format=json\n",
      "开始抓取\n",
      "抓取成功\n",
      "https://blockchain.info/block-height/532366?format=json\n",
      "开始抓取\n",
      "抓取成功\n"
     ]
    }
   ],
   "source": [
    "from bs4 import BeautifulSoup\n",
    "import requests\n",
    "\n",
    "url_prefix = 'https://blockchain.info/block-height/'\n",
    "#height = 532365\n",
    "height_list = [height for height in range(532365,532367)]\n",
    "#print(height_list)\n",
    "\n",
    "for height in height_list:\n",
    "    url_suffix = str(height) + '?format=json'\n",
    "    url = url_prefix + url_suffix\n",
    "    print(url)\n",
    "    html = getHTMLText(url)\n",
    "    print('开始抓取')\n",
    "    title = 'blockheight_' + str(height)\n",
    "    with open(title+'.json','w') as f:\n",
    "        try:\n",
    "            for line in html:\n",
    "                f.write(line.strip())\n",
    "        except Exception:\n",
    "            print('发生错误')\n",
    "        \n",
    "    print('抓取成功')\n",
    "\n",
    "def getHTMLText(url):\n",
    "    try:\n",
    "        r = requests.get(url, timeout = 30)\n",
    "        r.raise_for_status()\n",
    "        r.encoding = r.apparent_encoding\n",
    "        return r.text\n",
    "    except:\n",
    "        return \"\"\n",
    "\n"
   ]
  },
  {
   "cell_type": "code",
   "execution_count": null,
   "metadata": {},
   "outputs": [],
   "source": []
  },
  {
   "cell_type": "code",
   "execution_count": null,
   "metadata": {},
   "outputs": [],
   "source": []
  }
 ],
 "metadata": {
  "kernelspec": {
   "display_name": "Python 3",
   "language": "python",
   "name": "python3"
  },
  "language_info": {
   "codemirror_mode": {
    "name": "ipython",
    "version": 3
   },
   "file_extension": ".py",
   "mimetype": "text/x-python",
   "name": "python",
   "nbconvert_exporter": "python",
   "pygments_lexer": "ipython3",
   "version": "3.6.5"
  }
 },
 "nbformat": 4,
 "nbformat_minor": 2
}
