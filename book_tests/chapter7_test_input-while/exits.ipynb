{
 "cells": [
  {
   "cell_type": "code",
   "execution_count": 1,
   "metadata": {},
   "outputs": [
    {
     "name": "stdout",
     "output_type": "stream",
     "text": [
      "How old are you? 12\n",
      "You need to pay $10 for the movie.\n",
      "How old are you? 16\n",
      "You need to pay $15 for the movie.\n",
      "How old are you? quit\n"
     ]
    }
   ],
   "source": [
    "prompt = 'How old are you? '\n",
    "active = True\n",
    "\n",
    "while active:\n",
    "    age = input(prompt)\n",
    "   \n",
    "    if age == 'quit':\n",
    "        active = False\n",
    "    else:    \n",
    "        age = int(age)\n",
    "        if age <= 3:\n",
    "            print('You can watch movies for free!')\n",
    "        elif (age>3) and (age<=12):\n",
    "            print('You need to pay $10 for the movie.')\n",
    "        elif age > 12:\n",
    "            print('You need to pay $15 for the movie.')\n",
    "   "
   ]
  },
  {
   "cell_type": "code",
   "execution_count": null,
   "metadata": {},
   "outputs": [],
   "source": [
    "while True:\n",
    "    age = input(prompt)\n",
    "   \n",
    "    if age == 'quit':\n",
    "        break\n",
    "       \n",
    "    age = int(age)\n",
    "    if age <= 3:\n",
    "        print('You can watch movies for free!')\n",
    "    elif (age>3) and (age<=12):\n",
    "        print('You need to pay $10 for the movie.')\n",
    "    elif age > 12:\n",
    "        print('You need to pay $15 for the movie.')"
   ]
  },
  {
   "cell_type": "code",
   "execution_count": null,
   "metadata": {},
   "outputs": [],
   "source": []
  }
 ],
 "metadata": {
  "kernelspec": {
   "display_name": "Python 3",
   "language": "python",
   "name": "python3"
  },
  "language_info": {
   "codemirror_mode": {
    "name": "ipython",
    "version": 3
   },
   "file_extension": ".py",
   "mimetype": "text/x-python",
   "name": "python",
   "nbconvert_exporter": "python",
   "pygments_lexer": "ipython3",
   "version": "3.6.5"
  }
 },
 "nbformat": 4,
 "nbformat_minor": 2
}
