{
 "cells": [
  {
   "cell_type": "code",
   "execution_count": 2,
   "metadata": {},
   "outputs": [
    {
     "name": "stdout",
     "output_type": "stream",
     "text": [
      "How many people are there? 9\n",
      "Sorry, there is no suitable table.\n"
     ]
    }
   ],
   "source": [
    "prompt = 'How many people are there? '\n",
    "person_numbers = input(prompt)\n",
    "person_numbers = int(person_numbers)\n",
    "\n",
    "if person_numbers > 8:\n",
    "    print('Sorry, there is no suitable table.')\n",
    "else:\n",
    "    print('OK. We have a table for you now.')"
   ]
  },
  {
   "cell_type": "code",
   "execution_count": null,
   "metadata": {},
   "outputs": [],
   "source": []
  }
 ],
 "metadata": {
  "kernelspec": {
   "display_name": "Python 3",
   "language": "python",
   "name": "python3"
  },
  "language_info": {
   "codemirror_mode": {
    "name": "ipython",
    "version": 3
   },
   "file_extension": ".py",
   "mimetype": "text/x-python",
   "name": "python",
   "nbconvert_exporter": "python",
   "pygments_lexer": "ipython3",
   "version": "3.6.5"
  }
 },
 "nbformat": 4,
 "nbformat_minor": 2
}
