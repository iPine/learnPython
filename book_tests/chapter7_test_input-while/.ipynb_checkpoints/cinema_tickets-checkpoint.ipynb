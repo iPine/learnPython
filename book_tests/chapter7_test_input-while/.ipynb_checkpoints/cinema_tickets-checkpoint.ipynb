{
 "cells": [
  {
   "cell_type": "code",
   "execution_count": null,
   "metadata": {},
   "outputs": [
    {
     "name": "stdout",
     "output_type": "stream",
     "text": [
      "How old are you? 15\n",
      "You need to pay 15 dollars to watch the movie.\n",
      "How old are you? 2\n",
      "You can watch movies for free!\n",
      "How old are you? 6\n",
      "You need to pay 10 dollars to watch the movie.\n"
     ]
    }
   ],
   "source": [
    "prompt = 'How old are you? '\n",
    "\n",
    "while True:\n",
    "    age = input(prompt)\n",
    "    age = int(age)\n",
    "    \n",
    "    if age < 3:\n",
    "        print('You can watch movies for free!')\n",
    "    elif (age>3) and (age<12):\n",
    "        print('You need to pay 10 dollars to watch the movie.')\n",
    "    else:\n",
    "        print('You need to pay 15 dollars to watch the movie.')"
   ]
  },
  {
   "cell_type": "code",
   "execution_count": null,
   "metadata": {},
   "outputs": [],
   "source": []
  }
 ],
 "metadata": {
  "kernelspec": {
   "display_name": "Python 3",
   "language": "python",
   "name": "python3"
  },
  "language_info": {
   "codemirror_mode": {
    "name": "ipython",
    "version": 3
   },
   "file_extension": ".py",
   "mimetype": "text/x-python",
   "name": "python",
   "nbconvert_exporter": "python",
   "pygments_lexer": "ipython3",
   "version": "3.6.5"
  }
 },
 "nbformat": 4,
 "nbformat_minor": 2
}
