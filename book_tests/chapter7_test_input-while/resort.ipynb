{
 "cells": [
  {
   "cell_type": "code",
   "execution_count": 1,
   "metadata": {},
   "outputs": [
    {
     "name": "stdout",
     "output_type": "stream",
     "text": [
      "\n",
      "What\"s your name? ipine\n",
      "If you could visit one place in the world, where would you go? yunnan\n",
      "Would you like to let another person respond? (yes/ no) yes\n",
      "\n",
      "What\"s your name? li\n",
      "If you could visit one place in the world, where would you go? huangshan\n",
      "Would you like to let another person respond? (yes/ no) no\n",
      "\n",
      "------Results------\n",
      "Ipine want to visit yunnan\n",
      "Li want to visit huangshan\n"
     ]
    }
   ],
   "source": [
    "prompt = '\\nWhat\"s your name? '\n",
    "prompt_1 = 'If you could visit one place in the world, where would you go? '\n",
    "\n",
    "poll_active = True\n",
    "results = {}\n",
    "while poll_active:\n",
    "    name = input(prompt) \n",
    "    place = input(prompt_1)\n",
    "    results[name] = place\n",
    "    \n",
    "    repeat = input(\"Would you like to let another person respond? (yes/ no) \")\n",
    "    if repeat == 'no':\n",
    "        poll_active = False\n",
    "\n",
    "print('\\n------Results------')\n",
    "for name,place in results.items():\n",
    "    print(name.title() + ' want to visit '+ place)"
   ]
  },
  {
   "cell_type": "code",
   "execution_count": null,
   "metadata": {},
   "outputs": [],
   "source": []
  }
 ],
 "metadata": {
  "kernelspec": {
   "display_name": "Python 3",
   "language": "python",
   "name": "python3"
  },
  "language_info": {
   "codemirror_mode": {
    "name": "ipython",
    "version": 3
   },
   "file_extension": ".py",
   "mimetype": "text/x-python",
   "name": "python",
   "nbconvert_exporter": "python",
   "pygments_lexer": "ipython3",
   "version": "3.6.5"
  }
 },
 "nbformat": 4,
 "nbformat_minor": 2
}
