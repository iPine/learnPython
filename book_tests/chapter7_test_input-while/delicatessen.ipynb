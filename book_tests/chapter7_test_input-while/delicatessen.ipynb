{
 "cells": [
  {
   "cell_type": "code",
   "execution_count": 4,
   "metadata": {},
   "outputs": [
    {
     "name": "stdout",
     "output_type": "stream",
     "text": [
      "I made your bacon sandwich.\n",
      "I made your sala sandwich.\n",
      "I made your ham sandwich.\n",
      "All sandwiched are made:\n",
      "bacon sandwich\n",
      "sala sandwich\n",
      "ham sandwich\n"
     ]
    }
   ],
   "source": [
    "sandwich_orders = ['bacon sandwich','sala sandwich','ham sandwich']\n",
    "finished_sandwiches = []\n",
    "\n",
    "for sandwich in sandwich_orders:\n",
    "    print('I made your '+ sandwich + '.')\n",
    "    finished_sandwiches.append(sandwich)\n",
    "\n",
    "print('All sandwiched are made:')\n",
    "for sandwich in finished_sandwiches:\n",
    "    print(sandwich)"
   ]
  },
  {
   "cell_type": "code",
   "execution_count": null,
   "metadata": {},
   "outputs": [],
   "source": []
  }
 ],
 "metadata": {
  "kernelspec": {
   "display_name": "Python 3",
   "language": "python",
   "name": "python3"
  },
  "language_info": {
   "codemirror_mode": {
    "name": "ipython",
    "version": 3
   },
   "file_extension": ".py",
   "mimetype": "text/x-python",
   "name": "python",
   "nbconvert_exporter": "python",
   "pygments_lexer": "ipython3",
   "version": "3.6.5"
  }
 },
 "nbformat": 4,
 "nbformat_minor": 2
}
