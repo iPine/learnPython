{
 "cells": [
  {
   "cell_type": "code",
   "execution_count": 1,
   "metadata": {},
   "outputs": [
    {
     "name": "stdout",
     "output_type": "stream",
     "text": [
      "You are adult.\n"
     ]
    }
   ],
   "source": [
    "age = 23\n",
    "if age < 2:\n",
    "    print(\"You are a baby.\")\n",
    "elif (age >= 2) and (age < 4):\n",
    "    print('You are a toddle.')\n",
    "elif (age >= 4) and (age < 13):\n",
    "    print('You are child.')\n",
    "elif (age >= 13) and (age < 20):\n",
    "    print('You are teenager.')\n",
    "elif (age > 20) and (age < 65):\n",
    "    print('You are adult.')\n",
    "else:\n",
    "    print('You are old people.')"
   ]
  },
  {
   "cell_type": "code",
   "execution_count": null,
   "metadata": {},
   "outputs": [],
   "source": []
  }
 ],
 "metadata": {
  "kernelspec": {
   "display_name": "Python 3",
   "language": "python",
   "name": "python3"
  },
  "language_info": {
   "codemirror_mode": {
    "name": "ipython",
    "version": 3
   },
   "file_extension": ".py",
   "mimetype": "text/x-python",
   "name": "python",
   "nbconvert_exporter": "python",
   "pygments_lexer": "ipython3",
   "version": "3.6.5"
  }
 },
 "nbformat": 4,
 "nbformat_minor": 2
}
