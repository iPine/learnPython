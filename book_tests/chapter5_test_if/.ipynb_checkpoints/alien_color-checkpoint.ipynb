{
 "cells": [
  {
   "cell_type": "code",
   "execution_count": 2,
   "metadata": {},
   "outputs": [
    {
     "name": "stdout",
     "output_type": "stream",
     "text": [
      "You get 5 points!\n"
     ]
    }
   ],
   "source": [
    "alien_color  = 'green'\n",
    "if alien_color == 'green':\n",
    "    print('You get 5 points!')"
   ]
  },
  {
   "cell_type": "code",
   "execution_count": 8,
   "metadata": {},
   "outputs": [
    {
     "name": "stdout",
     "output_type": "stream",
     "text": [
      "You get 10 points!\n"
     ]
    }
   ],
   "source": [
    "alien_color  = 'red'\n",
    "if alien_color == 'green':\n",
    "    print('You get 5 points!')\n",
    "else:\n",
    "    print('You get 10 points!')"
   ]
  },
  {
   "cell_type": "code",
   "execution_count": 9,
   "metadata": {},
   "outputs": [
    {
     "name": "stdout",
     "output_type": "stream",
     "text": [
      "You get 10 points!\n"
     ]
    }
   ],
   "source": [
    "if alien_color == 'green':\n",
    "    print('You get 5 points!')\n",
    "if alien_color != 'green':\n",
    "    print('You get 10 points!')"
   ]
  },
  {
   "cell_type": "code",
   "execution_count": 10,
   "metadata": {},
   "outputs": [
    {
     "name": "stdout",
     "output_type": "stream",
     "text": [
      "You get 15 points!\n"
     ]
    }
   ],
   "source": [
    "if alien_color == 'green':\n",
    "    print('You get 5 points!')\n",
    "elif alien_color == 'yellow':\n",
    "    print('You get 10 points!')\n",
    "elif alien_color == 'red':\n",
    "    print('You get 15 points!')"
   ]
  },
  {
   "cell_type": "code",
   "execution_count": null,
   "metadata": {},
   "outputs": [],
   "source": []
  }
 ],
 "metadata": {
  "kernelspec": {
   "display_name": "Python 3",
   "language": "python",
   "name": "python3"
  },
  "language_info": {
   "codemirror_mode": {
    "name": "ipython",
    "version": 3
   },
   "file_extension": ".py",
   "mimetype": "text/x-python",
   "name": "python",
   "nbconvert_exporter": "python",
   "pygments_lexer": "ipython3",
   "version": "3.6.5"
  }
 },
 "nbformat": 4,
 "nbformat_minor": 2
}
