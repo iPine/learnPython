{
 "cells": [
  {
   "cell_type": "code",
   "execution_count": 2,
   "metadata": {},
   "outputs": [
    {
     "name": "stdout",
     "output_type": "stream",
     "text": [
      "You really like apples!\n",
      "You really like pineapples!\n",
      "You really like grapes!\n",
      "You really like pitchs!\n",
      "You really don't like bananas!\n"
     ]
    }
   ],
   "source": [
    "favorite_fruits = ['apple','pineapple','grape','pitch']\n",
    "if 'apple' in favorite_fruits:\n",
    "    print('You really like apples!')\n",
    "if 'pineapple'in favorite_fruits:\n",
    "    print('You really like pineapples!')\n",
    "if 'grape'in favorite_fruits:\n",
    "    print('You really like grapes!')\n",
    "if 'pitch'in favorite_fruits:\n",
    "    print('You really like pitchs!')\n",
    "if 'bananas'not in favorite_fruits:\n",
    "    print(\"You really don't like bananas!\")   "
   ]
  },
  {
   "cell_type": "code",
   "execution_count": null,
   "metadata": {},
   "outputs": [],
   "source": []
  }
 ],
 "metadata": {
  "kernelspec": {
   "display_name": "Python 3",
   "language": "python",
   "name": "python3"
  },
  "language_info": {
   "codemirror_mode": {
    "name": "ipython",
    "version": 3
   },
   "file_extension": ".py",
   "mimetype": "text/x-python",
   "name": "python",
   "nbconvert_exporter": "python",
   "pygments_lexer": "ipython3",
   "version": "3.6.5"
  }
 },
 "nbformat": 4,
 "nbformat_minor": 2
}
