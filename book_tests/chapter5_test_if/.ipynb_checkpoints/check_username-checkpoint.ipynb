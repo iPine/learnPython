{
 "cells": [
  {
   "cell_type": "code",
   "execution_count": 4,
   "metadata": {},
   "outputs": [
    {
     "name": "stdout",
     "output_type": "stream",
     "text": [
      "Sorry! You need input another name.\n",
      "Yes. Xiaoxiao has not be used.\n",
      "Yes. Huahua has not be used.\n",
      "Sorry! You need input another name.\n",
      "Yes. Tiantian has not be used.\n",
      "Sorry! You need input another name.\n"
     ]
    }
   ],
   "source": [
    "current_users = ['bob','root','ipine','admin','lele']\n",
    "new_users = ['ipine','xiaoxiao','huahua','LELE','tiantian','Admin']\n",
    "\n",
    "for user in new_users:\n",
    "    if user.lower() in current_users:\n",
    "        print(\"Sorry! You need input another name.\")\n",
    "    else:\n",
    "        print(\"Yes. {} has not be used.\".format(user.title()))"
   ]
  },
  {
   "cell_type": "code",
   "execution_count": null,
   "metadata": {},
   "outputs": [],
   "source": []
  }
 ],
 "metadata": {
  "kernelspec": {
   "display_name": "Python 3",
   "language": "python",
   "name": "python3"
  },
  "language_info": {
   "codemirror_mode": {
    "name": "ipython",
    "version": 3
   },
   "file_extension": ".py",
   "mimetype": "text/x-python",
   "name": "python",
   "nbconvert_exporter": "python",
   "pygments_lexer": "ipython3",
   "version": "3.6.5"
  }
 },
 "nbformat": 4,
 "nbformat_minor": 2
}
