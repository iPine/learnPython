{
 "cells": [
  {
   "cell_type": "code",
   "execution_count": 4,
   "metadata": {},
   "outputs": [
    {
     "name": "stdout",
     "output_type": "stream",
     "text": [
      "Alex, is [5, 6] your favorite number?\n",
      "Bob, is [6, 7] your favorite number?\n",
      "Ipine, is [7, 17, 28] your favorite number?\n",
      "Jerry, is [10, 18, 21] your favorite number?\n",
      "Tom, is [8] your favorite number?\n"
     ]
    }
   ],
   "source": [
    "favorite_numbers = {'alex': [5,6],\n",
    "                    'bob': [6,7],\n",
    "                    'ipine':[7,17,28],\n",
    "                    'jerry': [10,18,21],\n",
    "                    'tom': [8],}\n",
    "for name in favorite_numbers:\n",
    "    print(name.title() + ', is ' + str(favorite_numbers[name]) + ' your favorite number?')\n",
    "    "
   ]
  },
  {
   "cell_type": "code",
   "execution_count": 5,
   "metadata": {},
   "outputs": [
    {
     "name": "stdout",
     "output_type": "stream",
     "text": [
      "Alex, thanks for your participation.\n",
      "David, please participate in our survey.\n",
      "Tom, thanks for your participation.\n",
      "Poly, please participate in our survey.\n"
     ]
    }
   ],
   "source": [
    "checked_names = ['Alex','David','Tom','Poly']\n",
    "for name in checked_names:\n",
    "    if name.lower() in favorite_numbers.keys():\n",
    "        print(name.title() + ', thanks for your participation.')\n",
    "    else:\n",
    "        print(name.title() + ', please participate in our survey.')"
   ]
  },
  {
   "cell_type": "code",
   "execution_count": 10,
   "metadata": {},
   "outputs": [
    {
     "name": "stdout",
     "output_type": "stream",
     "text": [
      "Alex's favorite numbers are:\n",
      "\t5\n",
      "\t6\n",
      "Bob's favorite numbers are:\n",
      "\t6\n",
      "\t7\n",
      "Ipine's favorite numbers are:\n",
      "\t7\n",
      "\t17\n",
      "\t28\n",
      "Jerry's favorite numbers are:\n",
      "\t10\n",
      "\t18\n",
      "\t21\n",
      "Tom's favorite number is:\n",
      "\t8\n"
     ]
    }
   ],
   "source": [
    "for name, numbers in favorite_numbers.items():\n",
    "    if len(numbers) > 1:\n",
    "        print(name.title() + \"'s favorite numbers are:\")\n",
    "        for number in numbers:\n",
    "            print('\\t' + str(number))\n",
    "    else:\n",
    "        print(name.title() + \"'s favorite number is:\")\n",
    "        for number in numbers:\n",
    "            print('\\t' + str(number))"
   ]
  },
  {
   "cell_type": "code",
   "execution_count": null,
   "metadata": {},
   "outputs": [],
   "source": []
  }
 ],
 "metadata": {
  "kernelspec": {
   "display_name": "Python 3",
   "language": "python",
   "name": "python3"
  },
  "language_info": {
   "codemirror_mode": {
    "name": "ipython",
    "version": 3
   },
   "file_extension": ".py",
   "mimetype": "text/x-python",
   "name": "python",
   "nbconvert_exporter": "python",
   "pygments_lexer": "ipython3",
   "version": "3.6.5"
  }
 },
 "nbformat": 4,
 "nbformat_minor": 2
}
