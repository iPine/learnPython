{
 "cells": [
  {
   "cell_type": "code",
   "execution_count": 11,
   "metadata": {},
   "outputs": [
    {
     "name": "stdout",
     "output_type": "stream",
     "text": [
      "Alex likes C++\n",
      "\n",
      "Bob likes Python\n",
      "\n",
      "Tom likes Javascript\n",
      "\n",
      "David likes Ruby\n",
      "\n",
      "Jerry likes C#\n",
      "\n"
     ]
    }
   ],
   "source": [
    "#字典存储的是不同人的同一种信息；对于类似这样的字典，遍历所有的键 — 值对很合适\n",
    "vocabularies = {\n",
    "    'alex': 'c++',\n",
    "    'bob': 'python',\n",
    "    'tom': 'javascript',\n",
    "    'david': 'ruby',\n",
    "    'jerry': 'c#',\n",
    "}\n",
    "for name in vocabularies:\n",
    "    print(name.title() + ' likes ' + vocabularies[name].title()+ '\\n')"
   ]
  },
  {
   "cell_type": "code",
   "execution_count": 10,
   "metadata": {},
   "outputs": [
    {
     "name": "stdout",
     "output_type": "stream",
     "text": [
      "\n",
      "Alex likes C++\n",
      "\n",
      "Bob likes Python\n",
      "\n",
      "Tom likes Javascript\n",
      "\n",
      "David likes Ruby\n",
      "\n",
      "Jerry likes C#\n"
     ]
    }
   ],
   "source": [
    "for name, lang in vocabularies.items():\n",
    "    print('\\n' + name.title() + ' likes ' + lang.title())"
   ]
  },
  {
   "cell_type": "code",
   "execution_count": null,
   "metadata": {},
   "outputs": [],
   "source": []
  }
 ],
 "metadata": {
  "kernelspec": {
   "display_name": "Python 3",
   "language": "python",
   "name": "python3"
  },
  "language_info": {
   "codemirror_mode": {
    "name": "ipython",
    "version": 3
   },
   "file_extension": ".py",
   "mimetype": "text/x-python",
   "name": "python",
   "nbconvert_exporter": "python",
   "pygments_lexer": "ipython3",
   "version": "3.6.5"
  }
 },
 "nbformat": 4,
 "nbformat_minor": 2
}
