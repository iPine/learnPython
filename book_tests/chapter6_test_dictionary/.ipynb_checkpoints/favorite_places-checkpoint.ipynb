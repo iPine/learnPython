{
 "cells": [
  {
   "cell_type": "code",
   "execution_count": 5,
   "metadata": {},
   "outputs": [
    {
     "name": "stdout",
     "output_type": "stream",
     "text": [
      "Lijundong likes:\n",
      "\tXizhang\n",
      "\tJapan\n",
      "\n",
      "\n",
      "Ipine likes:\n",
      "\tYunnan\n",
      "\tSichuan\n",
      "\tGerman\n",
      "\n",
      "\n",
      "Alex likes:\n",
      "\tSeattle\n",
      "\tXian\n",
      "\tParis\n",
      "\n",
      "\n"
     ]
    }
   ],
   "source": [
    "favorite_places = {\n",
    "    'lijundong':['xizhang','japan'],\n",
    "    'ipine': ['yunnan','sichuan','german'],\n",
    "    'alex': ['seattle','xian','paris'],\n",
    "}\n",
    "\n",
    "for name,places in favorite_places.items():\n",
    "    print(name.title() + ' likes:')\n",
    "    for place in places:\n",
    "        print('\\t' + place.title())\n",
    "    print('\\n')"
   ]
  },
  {
   "cell_type": "code",
   "execution_count": null,
   "metadata": {},
   "outputs": [],
   "source": []
  }
 ],
 "metadata": {
  "kernelspec": {
   "display_name": "Python 3",
   "language": "python",
   "name": "python3"
  },
  "language_info": {
   "codemirror_mode": {
    "name": "ipython",
    "version": 3
   },
   "file_extension": ".py",
   "mimetype": "text/x-python",
   "name": "python",
   "nbconvert_exporter": "python",
   "pygments_lexer": "ipython3",
   "version": "3.6.5"
  }
 },
 "nbformat": 4,
 "nbformat_minor": 2
}
