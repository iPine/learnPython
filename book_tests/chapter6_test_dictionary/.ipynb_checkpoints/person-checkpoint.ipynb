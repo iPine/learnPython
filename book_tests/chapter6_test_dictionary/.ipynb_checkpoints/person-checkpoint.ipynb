{
 "cells": [
  {
   "cell_type": "code",
   "execution_count": 3,
   "metadata": {},
   "outputs": [
    {
     "name": "stdout",
     "output_type": "stream",
     "text": [
      "Lijundong is 22 years old and he lives in Beijing.\n"
     ]
    }
   ],
   "source": [
    "person = {'first_name': 'jundong',\n",
    "          'last_name': 'li',\n",
    "          'age': 22,\n",
    "          'city': 'Beijing',}\n",
    "print(person['last_name'].title() + person['first_name'] + \n",
    "     ' is ' + str(person['age']) + ' years old and he lives in ' + person['city'] + '.')"
   ]
  },
  {
   "cell_type": "code",
   "execution_count": 4,
   "metadata": {},
   "outputs": [
    {
     "name": "stdout",
     "output_type": "stream",
     "text": [
      "{'first_name': 'jundong', 'last_name': 'li', 'age': 22, 'city': 'Beijing'}\n",
      "{'first_name': 'feng', 'last_name': 'luo', 'age': 23, 'city': 'changsha'}\n",
      "{'first_name': 'david', 'last_name': 'smith', 'age': 15, 'city': 'chicago'}\n"
     ]
    }
   ],
   "source": [
    "person_1 = {\n",
    "    'first_name': 'feng',\n",
    "    'last_name': 'luo',\n",
    "    'age': 23,\n",
    "    'city': 'changsha',\n",
    "}\n",
    "\n",
    "person_2 = {\n",
    "    'first_name': 'david',\n",
    "    'last_name': 'smith',\n",
    "    'age': 15,\n",
    "    'city': 'chicago',\n",
    "}\n",
    "\n",
    "people = [person,person_1,person_2]\n",
    "\n",
    "for person in people:\n",
    "    print(person)\n"
   ]
  },
  {
   "cell_type": "code",
   "execution_count": null,
   "metadata": {},
   "outputs": [],
   "source": []
  }
 ],
 "metadata": {
  "kernelspec": {
   "display_name": "Python 3",
   "language": "python",
   "name": "python3"
  },
  "language_info": {
   "codemirror_mode": {
    "name": "ipython",
    "version": 3
   },
   "file_extension": ".py",
   "mimetype": "text/x-python",
   "name": "python",
   "nbconvert_exporter": "python",
   "pygments_lexer": "ipython3",
   "version": "3.6.5"
  }
 },
 "nbformat": 4,
 "nbformat_minor": 2
}
