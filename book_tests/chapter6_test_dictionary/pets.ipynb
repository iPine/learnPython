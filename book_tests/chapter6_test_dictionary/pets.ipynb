{
 "cells": [
  {
   "cell_type": "code",
   "execution_count": 4,
   "metadata": {},
   "outputs": [
    {
     "name": "stdout",
     "output_type": "stream",
     "text": [
      "Lele has a small size pig.\n",
      "Jerry has a big size dog.\n",
      "Tom has a middle size cat.\n"
     ]
    }
   ],
   "source": [
    "pig = {\n",
    "    'type': 'pig',\n",
    "    'size': 'small',\n",
    "    'owner': 'lele',\n",
    "}\n",
    "dog = {\n",
    "    'type': 'dog',\n",
    "    'size': 'big',\n",
    "    'owner': 'jerry',\n",
    "}\n",
    "cat = {\n",
    "    'type': 'cat',\n",
    "    'size': 'middle',\n",
    "    'owner': 'tom',\n",
    "}\n",
    "\n",
    "pets = [pig,dog,cat]\n",
    "\n",
    "for pet in pets:\n",
    "    print(pet['owner'].title() + ' has a ' + pet['size'] + ' size ' + pet['type'] + '.')"
   ]
  },
  {
   "cell_type": "code",
   "execution_count": null,
   "metadata": {},
   "outputs": [],
   "source": []
  }
 ],
 "metadata": {
  "kernelspec": {
   "display_name": "Python 3",
   "language": "python",
   "name": "python3"
  },
  "language_info": {
   "codemirror_mode": {
    "name": "ipython",
    "version": 3
   },
   "file_extension": ".py",
   "mimetype": "text/x-python",
   "name": "python",
   "nbconvert_exporter": "python",
   "pygments_lexer": "ipython3",
   "version": "3.6.5"
  }
 },
 "nbformat": 4,
 "nbformat_minor": 2
}
