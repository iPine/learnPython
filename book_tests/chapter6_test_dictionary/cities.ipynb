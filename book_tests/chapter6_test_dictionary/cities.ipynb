{
 "cells": [
  {
   "cell_type": "code",
   "execution_count": 4,
   "metadata": {},
   "outputs": [
    {
     "name": "stdout",
     "output_type": "stream",
     "text": [
      "Cityname: Chengdu\n",
      "\tCountry: China\n",
      "\tPopulation: 50000\n",
      "\tDescription: Fine Food\n",
      "Cityname: Paris\n",
      "\tCountry: France\n",
      "\tPopulation: 100000\n",
      "\tDescription: Romantic\n",
      "Cityname: Silicon Valley\n",
      "\tCountry: America\n",
      "\tPopulation: 6000000\n",
      "\tDescription: Economics\n"
     ]
    }
   ],
   "source": [
    "cities = {\n",
    "    'chengdu':{\n",
    "        'country': 'china',\n",
    "        'population': 50000,\n",
    "        'description': 'fine food',\n",
    "    },\n",
    "    'paris':{\n",
    "        'country': 'france',\n",
    "        'population': 100000,\n",
    "        'description': 'romantic',\n",
    "    },\n",
    "     'silicon valley':{\n",
    "        'country': 'america',\n",
    "        'population': 6000000,\n",
    "        'description': 'economics',\n",
    "    },\n",
    "}\n",
    "\n",
    "for city,info in cities.items():\n",
    "    print('Cityname: ' + city.title())\n",
    "    country = info['country']\n",
    "    print('\\tCountry: ' + country.title())\n",
    "    print('\\tPopulation: ' + str(info['population']))\n",
    "    print('\\tDescription: ' + info['description'].title())\n",
    "    "
   ]
  },
  {
   "cell_type": "code",
   "execution_count": null,
   "metadata": {},
   "outputs": [],
   "source": []
  }
 ],
 "metadata": {
  "kernelspec": {
   "display_name": "Python 3",
   "language": "python",
   "name": "python3"
  },
  "language_info": {
   "codemirror_mode": {
    "name": "ipython",
    "version": 3
   },
   "file_extension": ".py",
   "mimetype": "text/x-python",
   "name": "python",
   "nbconvert_exporter": "python",
   "pygments_lexer": "ipython3",
   "version": "3.6.5"
  }
 },
 "nbformat": 4,
 "nbformat_minor": 2
}
