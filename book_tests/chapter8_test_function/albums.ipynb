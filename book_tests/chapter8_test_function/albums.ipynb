{
 "cells": [
  {
   "cell_type": "code",
   "execution_count": 4,
   "metadata": {},
   "outputs": [
    {
     "name": "stdout",
     "output_type": "stream",
     "text": [
      "{'singer': 'Adele', 'album': 'Rolling in the deep'}\n",
      "{'singer': 'Adele', 'album': 'Rolling in the deep', 'song_numbers': 18}\n"
     ]
    }
   ],
   "source": [
    "def make_album(singer_name,album_name,song_nums = ''):\n",
    "    album_info = {'singer':singer_name.title(),'album':album_name}\n",
    "    if song_nums:\n",
    "        album_info['song_numbers'] = song_nums\n",
    "    return album_info\n",
    "\n",
    "album_1 = make_album('adele','Rolling in the deep')\n",
    "print(album_1)\n",
    "album_2 = make_album('adele','Rolling in the deep',18)\n",
    "print(album_2)"
   ]
  },
  {
   "cell_type": "code",
   "execution_count": null,
   "metadata": {},
   "outputs": [],
   "source": []
  }
 ],
 "metadata": {
  "kernelspec": {
   "display_name": "Python 3",
   "language": "python",
   "name": "python3"
  },
  "language_info": {
   "codemirror_mode": {
    "name": "ipython",
    "version": 3
   },
   "file_extension": ".py",
   "mimetype": "text/x-python",
   "name": "python",
   "nbconvert_exporter": "python",
   "pygments_lexer": "ipython3",
   "version": "3.6.5"
  }
 },
 "nbformat": 4,
 "nbformat_minor": 2
}
