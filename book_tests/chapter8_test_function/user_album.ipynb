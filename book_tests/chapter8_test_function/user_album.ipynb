{
 "cells": [
  {
   "cell_type": "code",
   "execution_count": 1,
   "metadata": {},
   "outputs": [
    {
     "name": "stdout",
     "output_type": "stream",
     "text": [
      "\n",
      "Please input some album infos:\n",
      "Singer name: adele\n",
      "Album name: Rolling in the deep\n",
      "Song numbers: 7\n",
      "{'singer': 'Adele', 'album': 'Rolling in the deep', 'song_numbers': '7'}\n",
      "\n",
      "Do you want to make more?\n",
      "(YES/NO?): YES\n",
      "\n",
      "Please input some album infos:\n",
      "Singer name: aa\n",
      "Album name: 22\n",
      "Song numbers: 19\n",
      "{'singer': 'Aa', 'album': '22', 'song_numbers': '19'}\n",
      "\n",
      "Do you want to make more?\n",
      "(YES/NO?): NO\n"
     ]
    }
   ],
   "source": [
    "def make_album(singer_name,album_name,song_nums = ''):\n",
    "    album_info = {'singer':singer_name.title(),'album':album_name}\n",
    "    if song_nums:\n",
    "        album_info['song_numbers'] = song_nums\n",
    "    return album_info\n",
    "\n",
    "while True:\n",
    "    print(\"\\nPlease input some album infos:\")\n",
    "    singer_name = input('Singer name: ')\n",
    "    album_name = input('Album name: ')\n",
    "    song_nums = input('Song numbers: ')\n",
    "    \n",
    "    album = make_album(singer_name,album_name,song_nums)\n",
    "    print(album)\n",
    "    print(\"\\nDo you want to make more?\")\n",
    "    flag = input(\"(YES/NO?): \")\n",
    "    if flag == 'NO':\n",
    "        break\n",
    "    "
   ]
  },
  {
   "cell_type": "code",
   "execution_count": null,
   "metadata": {},
   "outputs": [],
   "source": []
  }
 ],
 "metadata": {
  "kernelspec": {
   "display_name": "Python 3",
   "language": "python",
   "name": "python3"
  },
  "language_info": {
   "codemirror_mode": {
    "name": "ipython",
    "version": 3
   },
   "file_extension": ".py",
   "mimetype": "text/x-python",
   "name": "python",
   "nbconvert_exporter": "python",
   "pygments_lexer": "ipython3",
   "version": "3.6.5"
  }
 },
 "nbformat": 4,
 "nbformat_minor": 2
}
