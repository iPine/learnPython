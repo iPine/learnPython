{
 "cells": [
  {
   "cell_type": "code",
   "execution_count": 4,
   "metadata": {},
   "outputs": [
    {
     "name": "stdout",
     "output_type": "stream",
     "text": [
      "Chengdu, China\n",
      "Changsha, China\n",
      "Paris, France\n"
     ]
    }
   ],
   "source": [
    "def city_name(name,country):\n",
    "    city_name = name + ', ' + country\n",
    "    return city_name.title()\n",
    "\n",
    "city_1 = city_name('chengdu','china')\n",
    "print(city_1)\n",
    "city_2 = city_name('changsha','china')\n",
    "print(city_2)\n",
    "city_3 = city_name('paris','france')\n",
    "print(city_3)"
   ]
  },
  {
   "cell_type": "code",
   "execution_count": null,
   "metadata": {},
   "outputs": [],
   "source": []
  },
  {
   "cell_type": "code",
   "execution_count": null,
   "metadata": {},
   "outputs": [],
   "source": []
  }
 ],
 "metadata": {
  "kernelspec": {
   "display_name": "Python 3",
   "language": "python",
   "name": "python3"
  },
  "language_info": {
   "codemirror_mode": {
    "name": "ipython",
    "version": 3
   },
   "file_extension": ".py",
   "mimetype": "text/x-python",
   "name": "python",
   "nbconvert_exporter": "python",
   "pygments_lexer": "ipython3",
   "version": "3.6.5"
  }
 },
 "nbformat": 4,
 "nbformat_minor": 2
}
