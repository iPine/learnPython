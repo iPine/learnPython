{
 "cells": [
  {
   "cell_type": "code",
   "execution_count": 1,
   "metadata": {},
   "outputs": [
    {
     "name": "stdout",
     "output_type": "stream",
     "text": [
      "Ajiaxi\n",
      "Jerry\n"
     ]
    }
   ],
   "source": [
    "def show_magicians(magicians_name):\n",
    "    for name in magicians_name:\n",
    "        print(name.title())\n",
    "\n",
    "magicians_name = ['Ajiaxi','Jerry']\n",
    "show_magicians(magicians_name)"
   ]
  },
  {
   "cell_type": "code",
   "execution_count": 14,
   "metadata": {},
   "outputs": [
    {
     "name": "stdout",
     "output_type": "stream",
     "text": [
      "The Great Jerry\n",
      "The Great Ajiaxi\n"
     ]
    }
   ],
   "source": [
    "def make_great(magicians_name):\n",
    "    new_name = []\n",
    "    #以下写法没作用\n",
    "    #for name in magicians_name:\n",
    "    #    name = 'the Great ' + str(name)\n",
    "    #return magicians_name\n",
    "    while magicians_name:\n",
    "        name = magicians_name.pop()\n",
    "        name = 'the Great ' + name\n",
    "        new_name.append(name)\n",
    "    return new_name\n",
    "\n",
    "\n",
    "magicians_name = ['Ajiaxi','Jerry']\n",
    "\n",
    "magicians_name = make_great(magicians_name)\n",
    "show_magicians(magicians_name)"
   ]
  },
  {
   "cell_type": "code",
   "execution_count": 13,
   "metadata": {},
   "outputs": [
    {
     "name": "stdout",
     "output_type": "stream",
     "text": [
      "Ajiaxi\n",
      "Jerry\n",
      "Ajiaxi\n",
      "Jerry\n"
     ]
    }
   ],
   "source": [
    "magicians_name = ['Ajiaxi','Jerry']\n",
    "new_name = []\n",
    "new_name = make_great(magicians_name[:])\n",
    "show_magicians(magicians_name)\n",
    "show_magicians(new_name)"
   ]
  },
  {
   "cell_type": "code",
   "execution_count": null,
   "metadata": {},
   "outputs": [],
   "source": []
  }
 ],
 "metadata": {
  "kernelspec": {
   "display_name": "Python 3",
   "language": "python",
   "name": "python3"
  },
  "language_info": {
   "codemirror_mode": {
    "name": "ipython",
    "version": 3
   },
   "file_extension": ".py",
   "mimetype": "text/x-python",
   "name": "python",
   "nbconvert_exporter": "python",
   "pygments_lexer": "ipython3",
   "version": "3.6.5"
  }
 },
 "nbformat": 4,
 "nbformat_minor": 2
}
