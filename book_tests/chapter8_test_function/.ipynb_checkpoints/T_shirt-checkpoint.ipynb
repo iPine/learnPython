{
 "cells": [
  {
   "cell_type": "code",
   "execution_count": 7,
   "metadata": {},
   "outputs": [
    {
     "name": "stdout",
     "output_type": "stream",
     "text": [
      "A middle size T-shirt with flowers is made.\n"
     ]
    }
   ],
   "source": [
    "def make_shirt(logo,size):\n",
    "    print('A ' + size +  ' size T-shirt with ' + logo +\" is made.\")\n",
    "\n",
    "make_shirt(\"flowers\",'middle')"
   ]
  },
  {
   "cell_type": "code",
   "execution_count": 8,
   "metadata": {},
   "outputs": [
    {
     "name": "stdout",
     "output_type": "stream",
     "text": [
      "A small size T-shirt with dog is made.\n"
     ]
    }
   ],
   "source": [
    "make_shirt(size='small',logo='dog')"
   ]
  },
  {
   "cell_type": "code",
   "execution_count": 10,
   "metadata": {},
   "outputs": [
    {
     "name": "stdout",
     "output_type": "stream",
     "text": [
      "A large size T-shirt with I love Python is made.\n",
      "A middle size T-shirt with I love Python is made.\n",
      "A large size T-shirt with I like learning is made.\n"
     ]
    }
   ],
   "source": [
    "def make_shirt(logo='I love Python',size='large'):\n",
    "    print('A ' + size +  ' size T-shirt with ' + logo +\" is made.\")\n",
    "\n",
    "make_shirt()\n",
    "make_shirt(size='middle')\n",
    "make_shirt('I like learning')"
   ]
  },
  {
   "cell_type": "code",
   "execution_count": null,
   "metadata": {},
   "outputs": [],
   "source": []
  }
 ],
 "metadata": {
  "kernelspec": {
   "display_name": "Python 3",
   "language": "python",
   "name": "python3"
  },
  "language_info": {
   "codemirror_mode": {
    "name": "ipython",
    "version": 3
   },
   "file_extension": ".py",
   "mimetype": "text/x-python",
   "name": "python",
   "nbconvert_exporter": "python",
   "pygments_lexer": "ipython3",
   "version": "3.6.5"
  }
 },
 "nbformat": 4,
 "nbformat_minor": 2
}
