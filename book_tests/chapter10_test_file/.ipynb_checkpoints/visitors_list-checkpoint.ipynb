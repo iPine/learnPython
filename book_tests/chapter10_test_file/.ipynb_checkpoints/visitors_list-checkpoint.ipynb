{
 "cells": [
  {
   "cell_type": "code",
   "execution_count": 3,
   "metadata": {},
   "outputs": [
    {
     "name": "stdout",
     "output_type": "stream",
     "text": [
      "Please input your name: (Input \"q\" to quit ) ipine\n",
      "Hello, Ipine\n",
      "Please input your name: (Input \"q\" to quit ) jundong\n",
      "Hello, Jundong\n",
      "Please input your name: (Input \"q\" to quit ) li jun dong\n",
      "Hello, Li Jun Dong\n",
      "Please input your name: (Input \"q\" to quit ) q\n"
     ]
    }
   ],
   "source": [
    "flag = True\n",
    "prompt = 'Please input your name: '\n",
    "prompt += '(Input \"q\" to quit ) '\n",
    "while flag:\n",
    "   \n",
    "    visitor_logs = input(prompt)\n",
    "    if visitor_logs == 'q':\n",
    "        flag = False\n",
    "    else:\n",
    "        print('Hello, '+ visitor_logs.title()) \n",
    "        with open('guest_book.txt','a') as f:\n",
    "            f.write(visitor_logs.title() + '\\n')"
   ]
  },
  {
   "cell_type": "code",
   "execution_count": null,
   "metadata": {},
   "outputs": [],
   "source": []
  },
  {
   "cell_type": "code",
   "execution_count": null,
   "metadata": {},
   "outputs": [],
   "source": []
  }
 ],
 "metadata": {
  "kernelspec": {
   "display_name": "Python 3",
   "language": "python",
   "name": "python3"
  },
  "language_info": {
   "codemirror_mode": {
    "name": "ipython",
    "version": 3
   },
   "file_extension": ".py",
   "mimetype": "text/x-python",
   "name": "python",
   "nbconvert_exporter": "python",
   "pygments_lexer": "ipython3",
   "version": "3.6.5"
  }
 },
 "nbformat": 4,
 "nbformat_minor": 2
}
