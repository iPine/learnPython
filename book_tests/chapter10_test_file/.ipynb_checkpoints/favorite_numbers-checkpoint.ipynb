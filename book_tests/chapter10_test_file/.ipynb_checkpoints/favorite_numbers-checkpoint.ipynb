{
 "cells": [
  {
   "cell_type": "code",
   "execution_count": 5,
   "metadata": {},
   "outputs": [
    {
     "name": "stdout",
     "output_type": "stream",
     "text": [
      "I know your favorite number! It's 7\n"
     ]
    }
   ],
   "source": [
    "import json\n",
    " \n",
    "filename = 'favorite_numbers.json'\n",
    "\n",
    "try:\n",
    "    with open(filename) as f:\n",
    "        number = json.load(f)\n",
    "except FileNotFoundError:\n",
    "    prompt = 'Please input your favorite number: '\n",
    "    with open('favorite_numbers.json', 'w') as f:\n",
    "        numbers = input(prompt)\n",
    "        json.dump(numbers,f)\n",
    "        print('OK!')\n",
    "else:\n",
    "    print('I know your favorite number! It\\'s ' + number)"
   ]
  },
  {
   "cell_type": "code",
   "execution_count": null,
   "metadata": {},
   "outputs": [],
   "source": []
  }
 ],
 "metadata": {
  "kernelspec": {
   "display_name": "Python 3",
   "language": "python",
   "name": "python3"
  },
  "language_info": {
   "codemirror_mode": {
    "name": "ipython",
    "version": 3
   },
   "file_extension": ".py",
   "mimetype": "text/x-python",
   "name": "python",
   "nbconvert_exporter": "python",
   "pygments_lexer": "ipython3",
   "version": "3.6.5"
  }
 },
 "nbformat": 4,
 "nbformat_minor": 2
}
