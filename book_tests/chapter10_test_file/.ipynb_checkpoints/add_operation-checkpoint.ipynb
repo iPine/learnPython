{
 "cells": [
  {
   "cell_type": "code",
   "execution_count": 3,
   "metadata": {},
   "outputs": [
    {
     "name": "stdout",
     "output_type": "stream",
     "text": [
      "Give me two numbers, and I'll add them.\n",
      "Enter 'q' to quit.\n",
      "\n",
      "First number: 6\n",
      "Second number: 7\n",
      "13\n",
      "\n",
      "First number: 9\n",
      "Second number: '11'\n",
      "Please enter number!\n",
      "\n",
      "First number: 8\n",
      "Second number: 10\n",
      "18\n",
      "\n",
      "First number: '23'\n",
      "Second number: 12\n",
      "Please enter number!\n",
      "\n",
      "First number: q\n"
     ]
    }
   ],
   "source": [
    "print(\"Give me two numbers, and I'll add them.\")\n",
    "print(\"Enter 'q' to quit.\")\n",
    "while True:\n",
    "    first_number = input(\"\\nFirst number: \")\n",
    "    if first_number == 'q':\n",
    "        break\n",
    "    second_number = input(\"Second number: \")\n",
    "    if second_number == 'q':\n",
    "        break\n",
    "    try:\n",
    "        first_number = int(first_number)\n",
    "        second_number = int(second_number)\n",
    "       \n",
    "    except ValueError:\n",
    "        print(\"Please enter a number!\")\n",
    "    else:\n",
    "        answer = first_number + second_number\n",
    "        print(answer)"
   ]
  },
  {
   "cell_type": "code",
   "execution_count": null,
   "metadata": {},
   "outputs": [],
   "source": []
  }
 ],
 "metadata": {
  "kernelspec": {
   "display_name": "Python 3",
   "language": "python",
   "name": "python3"
  },
  "language_info": {
   "codemirror_mode": {
    "name": "ipython",
    "version": 3
   },
   "file_extension": ".py",
   "mimetype": "text/x-python",
   "name": "python",
   "nbconvert_exporter": "python",
   "pygments_lexer": "ipython3",
   "version": "3.6.5"
  }
 },
 "nbformat": 4,
 "nbformat_minor": 2
}
