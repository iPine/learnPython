{
 "cells": [
  {
   "cell_type": "code",
   "execution_count": 3,
   "metadata": {},
   "outputs": [
    {
     "name": "stdout",
     "output_type": "stream",
     "text": [
      "Heads: 5012\n",
      "Tails: 4988\n"
     ]
    }
   ],
   "source": [
    "\"\"\"模拟抛10000次硬币；统计出正面heads和背面tails的次数\n",
    "    随机数字生成器（random）的一个常见用途是从枚举值序列中选择一个随机项，即使这些值不是数字。\n",
    "\"\"\"\n",
    "\n",
    "import random\n",
    "import itertools\n",
    "\n",
    "outcomes = {\n",
    "    'heads':0,\n",
    "    'tails':0,\n",
    "}\n",
    "\n",
    "sides = list(outcomes.keys())\n",
    "#choice()函数用于从序列中随机选择；即使这个序列不是数值\n",
    "for i in range(10000):\n",
    "    outcomes[random.choice(sides)] += 1\n",
    "    \n",
    "print('Heads:',outcomes['heads'])\n",
    "print('Tails:',outcomes['tails'])\n"
   ]
  },
  {
   "cell_type": "code",
   "execution_count": null,
   "metadata": {},
   "outputs": [],
   "source": []
  }
 ],
 "metadata": {
  "kernelspec": {
   "display_name": "Python 3",
   "language": "python",
   "name": "python3"
  },
  "language_info": {
   "codemirror_mode": {
    "name": "ipython",
    "version": 3
   },
   "file_extension": ".py",
   "mimetype": "text/x-python",
   "name": "python",
   "nbconvert_exporter": "python",
   "pygments_lexer": "ipython3",
   "version": "3.6.5"
  }
 },
 "nbformat": 4,
 "nbformat_minor": 2
}
