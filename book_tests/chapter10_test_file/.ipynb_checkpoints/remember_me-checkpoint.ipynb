{
 "cells": [
  {
   "cell_type": "code",
   "execution_count": 5,
   "metadata": {},
   "outputs": [
    {
     "name": "stdout",
     "output_type": "stream",
     "text": [
      "Your name is li, right?\n",
      "Yes/No? Yes\n",
      "Welcome back, li!\n"
     ]
    }
   ],
   "source": [
    "\"\"\"重构代码：将大部分逻辑放到一个或多个函数中\"\"\"\n",
    "import json\n",
    "\n",
    "def get_stored_username():\n",
    "    \"\"\"如果存储了用户名，就获取它\n",
    "        函数要么返回预期的值，要么返回 None\n",
    "    \"\"\"\n",
    "    filename = 'username.json'\n",
    "    try:\n",
    "        with open(filename) as f_obj:\n",
    "            username = json.load(f_obj)\n",
    "    except FileNotFoundError:\n",
    "        return None\n",
    "    else:\n",
    "        return username\n",
    "\n",
    "def get_new_username():\n",
    "    \"\"\"提示用户输入用户名\"\"\"\n",
    "    username = input('what is your name? ')\n",
    "    filename = 'username.json'\n",
    "    with open(filename, 'w') as f_obj:\n",
    "        json.dump(username, f_obj)\n",
    "    return username\n",
    "\n",
    "def greet_user():\n",
    "    \"\"\"问候用户，并指出其名字\n",
    "        如果以前存储了用户名，就获取它(重构成一个函数)\n",
    "        否则，就提示用户输入用户名并存储它(重构成一个函数)\n",
    "    \"\"\"\n",
    "    filename = 'username.json'\n",
    "    \n",
    "    username = get_stored_username()\n",
    "    if username:\n",
    "        print('Your name is ' + username + ', right?')\n",
    "        check_result = input('Yes/No? ')\n",
    "        if check_result == 'Yes':\n",
    "            print(\"Welcome back, \" + username + \"!\")\n",
    "        elif check_result == 'No':\n",
    "            username = get_new_username()\n",
    "    else:\n",
    "        username = get_new_username()\n",
    "        print(\"We'll remember you when you come back, \" + username + \"!\")\n",
    "    \n",
    "\n",
    "greet_user()"
   ]
  },
  {
   "cell_type": "code",
   "execution_count": null,
   "metadata": {},
   "outputs": [],
   "source": []
  }
 ],
 "metadata": {
  "kernelspec": {
   "display_name": "Python 3",
   "language": "python",
   "name": "python3"
  }
 },
 "nbformat": 4,
 "nbformat_minor": 2
}
