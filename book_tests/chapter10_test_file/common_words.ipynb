{
 "cells": [
  {
   "cell_type": "code",
   "execution_count": 14,
   "metadata": {},
   "outputs": [
    {
     "name": "stdout",
     "output_type": "stream",
     "text": [
      "23686\n"
     ]
    }
   ],
   "source": [
    "#moby_dick.txt\n",
    "#pi_digits.txt\n",
    "#little_women.txt\n",
    "filename = 'little_women.txt'\n",
    "\n",
    "try:\n",
    "    with open(filename,'r') as f:\n",
    "        words = f.read()\n",
    "except FileNotFoundError:\n",
    "    print('Sorry, file ' + filename.split('.')[0] + 'not found!')\n",
    "except UnicodeDecodeError:\n",
    "    print('Sorry, file ' + filename.split('.')[0] + ' can\\'t decode!')\n",
    "else:\n",
    "    #先将所有单词转换成小写，再数个数\n",
    "    word_times += words.lower().count('the')\n",
    "    print(word_times)"
   ]
  },
  {
   "cell_type": "code",
   "execution_count": null,
   "metadata": {},
   "outputs": [],
   "source": []
  }
 ],
 "metadata": {
  "kernelspec": {
   "display_name": "Python 3",
   "language": "python",
   "name": "python3"
  },
  "language_info": {
   "codemirror_mode": {
    "name": "ipython",
    "version": 3
   },
   "file_extension": ".py",
   "mimetype": "text/x-python",
   "name": "python",
   "nbconvert_exporter": "python",
   "pygments_lexer": "ipython3",
   "version": "3.6.5"
  }
 },
 "nbformat": 4,
 "nbformat_minor": 2
}
