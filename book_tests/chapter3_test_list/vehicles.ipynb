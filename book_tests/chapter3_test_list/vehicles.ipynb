{
 "cells": [
  {
   "cell_type": "code",
   "execution_count": 3,
   "metadata": {},
   "outputs": [
    {
     "name": "stdout",
     "output_type": "stream",
     "text": [
      "I do not like to go to work by bick.\n",
      "I think go to work by bus is ok.\n",
      "I like to take taxi.\n",
      "I would like to own a Honda motorcycle.\n",
      "I would also like to own a car.\n"
     ]
    }
   ],
   "source": [
    "vehicles = [\"bick\",\"bus\",\"taxi\",\"motorcycle\",\"car\"]\n",
    "message_0 = \"I do not like to go to work by \" + vehicles[0] + \".\"\n",
    "message_1 = \"I think go to work by \" + vehicles[1] + \" is ok.\"\n",
    "message_2 = \"I like to take \" + vehicles[2] + \".\"\n",
    "message_3 = \"I would like to own a Honda \" + vehicles[3] + \".\"\n",
    "message_4 = \"I would also like to own a \" + vehicles[-1] + \".\"\n",
    "print(message_0)\n",
    "print(message_1)\n",
    "print(message_2)\n",
    "print(message_3)\n",
    "print(message_4)"
   ]
  },
  {
   "cell_type": "code",
   "execution_count": null,
   "metadata": {},
   "outputs": [],
   "source": []
  }
 ],
 "metadata": {
  "kernelspec": {
   "display_name": "Python 3",
   "language": "python",
   "name": "python3"
  },
  "language_info": {
   "codemirror_mode": {
    "name": "ipython",
    "version": 3
   },
   "file_extension": ".py",
   "mimetype": "text/x-python",
   "name": "python",
   "nbconvert_exporter": "python",
   "pygments_lexer": "ipython3",
   "version": "3.6.5"
  }
 },
 "nbformat": 4,
 "nbformat_minor": 2
}
