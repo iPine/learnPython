{
 "cells": [
  {
   "cell_type": "code",
   "execution_count": 1,
   "metadata": {},
   "outputs": [
    {
     "name": "stdout",
     "output_type": "stream",
     "text": [
      "dog\n",
      "pig\n",
      "cat\n"
     ]
    }
   ],
   "source": [
    "animals = [\"dog\",\"pig\",\"cat\"]\n",
    "for animal in animals:\n",
    "    print(animal)"
   ]
  },
  {
   "cell_type": "code",
   "execution_count": 2,
   "metadata": {},
   "outputs": [
    {
     "name": "stdout",
     "output_type": "stream",
     "text": [
      "A dog would make a great pet.\n",
      "A pig would make a great pet.\n",
      "A cat would make a great pet.\n"
     ]
    }
   ],
   "source": [
    "for animal in animals:\n",
    "    print(\"A \"+animal+\" would make a great pet.\")"
   ]
  },
  {
   "cell_type": "code",
   "execution_count": 3,
   "metadata": {},
   "outputs": [
    {
     "name": "stdout",
     "output_type": "stream",
     "text": [
      "A dog would make a great pet.\n",
      "A pig would make a great pet.\n",
      "A cat would make a great pet.\n",
      "Any of these animals would make a great pet!\n"
     ]
    }
   ],
   "source": [
    "for animal in animals:\n",
    "    print(\"A \"+animal+\" would make a great pet.\")\n",
    "print(\"Any of these animals would make a great pet!\")"
   ]
  },
  {
   "cell_type": "code",
   "execution_count": null,
   "metadata": {},
   "outputs": [],
   "source": []
  }
 ],
 "metadata": {
  "kernelspec": {
   "display_name": "Python 3",
   "language": "python",
   "name": "python3"
  },
  "language_info": {
   "codemirror_mode": {
    "name": "ipython",
    "version": 3
   },
   "file_extension": ".py",
   "mimetype": "text/x-python",
   "name": "python",
   "nbconvert_exporter": "python",
   "pygments_lexer": "ipython3",
   "version": "3.6.5"
  }
 },
 "nbformat": 4,
 "nbformat_minor": 2
}
