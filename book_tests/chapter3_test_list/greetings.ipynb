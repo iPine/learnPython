{
 "cells": [
  {
   "cell_type": "code",
   "execution_count": 5,
   "metadata": {},
   "outputs": [
    {
     "name": "stdout",
     "output_type": "stream",
     "text": [
      "Tom, how are you today?\n",
      "Bob, how are you today?\n",
      "Jerry, how are you today?\n",
      "Ipine, how are you today?\n"
     ]
    }
   ],
   "source": [
    "names = [\"Tom\",\"Bob\",\"Jerry\",\"ipine\"]\n",
    "for name in names:\n",
    "    messages = name.title() + \",\" + \" how are you today?\"\n",
    "    print(messages)"
   ]
  },
  {
   "cell_type": "code",
   "execution_count": null,
   "metadata": {},
   "outputs": [],
   "source": []
  }
 ],
 "metadata": {
  "kernelspec": {
   "display_name": "Python 3",
   "language": "python",
   "name": "python3"
  },
  "language_info": {
   "codemirror_mode": {
    "name": "ipython",
    "version": 3
   },
   "file_extension": ".py",
   "mimetype": "text/x-python",
   "name": "python",
   "nbconvert_exporter": "python",
   "pygments_lexer": "ipython3",
   "version": "3.6.5"
  }
 },
 "nbformat": 4,
 "nbformat_minor": 2
}
