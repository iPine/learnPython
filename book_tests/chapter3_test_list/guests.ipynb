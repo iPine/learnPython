{
 "cells": [
  {
   "cell_type": "code",
   "execution_count": 1,
   "metadata": {},
   "outputs": [
    {
     "name": "stdout",
     "output_type": "stream",
     "text": [
      "I would like to eat dinner with Xiaohong, Xiaoming and Hanmeimei.\n"
     ]
    }
   ],
   "source": [
    "guests = [\"xiaohong\",\"xiaoming\",\"hanmeimei\"]\n",
    "invitations = \"I would like to eat dinner with \" + guests[0].title() + \", \" + guests[1].title() + \" and \" + guests[2].title() + \".\"\n",
    "print(invitations)"
   ]
  },
  {
   "cell_type": "code",
   "execution_count": 2,
   "metadata": {},
   "outputs": [
    {
     "name": "stdout",
     "output_type": "stream",
     "text": [
      "Xiaohong will be absent.\n"
     ]
    }
   ],
   "source": [
    "print(guests[0].title() + \" will be absent.\")"
   ]
  },
  {
   "cell_type": "code",
   "execution_count": 3,
   "metadata": {},
   "outputs": [
    {
     "name": "stdout",
     "output_type": "stream",
     "text": [
      "['lihua', 'xiaoming', 'hanmeimei']\n",
      "I would like to eat dinner with Lihua, Xiaoming and Hanmeimei.\n"
     ]
    }
   ],
   "source": [
    "#new_guest = \"lihua\"\n",
    "guests[0] = \"lihua\"\n",
    "print(guests)\n",
    "#invatations = \"I would like to eat dinner with \" + guests[0].title() + \", \" + guests[1].title() + \" and \" + guests[2].title() + \".\"\n",
    "print(\"I would like to eat dinner with \" + guests[0].title() + \", \" + guests[1].title() + \" and \" + guests[2].title() + \".\")"
   ]
  },
  {
   "cell_type": "code",
   "execution_count": 4,
   "metadata": {},
   "outputs": [
    {
     "name": "stdout",
     "output_type": "stream",
     "text": [
      "I just found a larger table.\n"
     ]
    }
   ],
   "source": [
    "print(\"I just found a larger table.\")"
   ]
  },
  {
   "cell_type": "code",
   "execution_count": 5,
   "metadata": {},
   "outputs": [
    {
     "name": "stdout",
     "output_type": "stream",
     "text": [
      "['lihua', 'xiaoming', 'hanmeimei']\n",
      "I would like to eat dinner with Lisa, Tom, Lihua, Xiaoming, Hanmeimei and Jerry.\n",
      "['lisa', 'Tom', 'lihua', 'xiaoming', 'hanmeimei', 'Jerry']\n"
     ]
    }
   ],
   "source": [
    "print(guests)\n",
    "guests.insert(0,\"lisa\")\n",
    "guests.insert(1,\"Tom\")\n",
    "guests.append(\"Jerry\")\n",
    "print(\"I would like to eat dinner with \" + guests[0].title() + \", \" + guests[1].title() + \", \" + guests[2].title() + \", \" + guests[3].title() + \", \" + guests[4].title() + \" and \" + guests[-1].title() + \".\")\n",
    "print(guests)"
   ]
  },
  {
   "cell_type": "code",
   "execution_count": 6,
   "metadata": {},
   "outputs": [
    {
     "name": "stdout",
     "output_type": "stream",
     "text": [
      "Sorry, I can only invite two guests.\n"
     ]
    }
   ],
   "source": [
    "print(\"Sorry, I can only invite two guests.\")"
   ]
  },
  {
   "cell_type": "code",
   "execution_count": 7,
   "metadata": {},
   "outputs": [
    {
     "name": "stdout",
     "output_type": "stream",
     "text": [
      "Jerry, I am so sorry.\n",
      "Hanmeimei, I am so sorry.\n",
      "Xiaoming, I am so sorry.\n",
      "Lihua, I am so sorry.\n"
     ]
    }
   ],
   "source": [
    "for i in range(4):\n",
    "    popped_guest = guests.pop()\n",
    "    print(popped_guest.title() + \", I am so sorry.\")"
   ]
  },
  {
   "cell_type": "code",
   "execution_count": 8,
   "metadata": {
    "scrolled": true
   },
   "outputs": [
    {
     "name": "stdout",
     "output_type": "stream",
     "text": [
      "Lisa, you are still invited.\n",
      "Tom, you are still invited.\n"
     ]
    }
   ],
   "source": [
    "print(guests[0].title() + \", you are still invited.\")\n",
    "print(guests[1].title() + \", you are still invited.\")"
   ]
  },
  {
   "cell_type": "code",
   "execution_count": 9,
   "metadata": {},
   "outputs": [
    {
     "name": "stdout",
     "output_type": "stream",
     "text": [
      "2\n"
     ]
    }
   ],
   "source": [
    "print(len(guests))"
   ]
  },
  {
   "cell_type": "code",
   "execution_count": 10,
   "metadata": {},
   "outputs": [
    {
     "name": "stdout",
     "output_type": "stream",
     "text": [
      "[]\n"
     ]
    }
   ],
   "source": [
    "del guests[0]\n",
    "#这里不是guests[1]，因为已经删掉一个了，列表中就只剩一个\n",
    "del guests[0]\n",
    "print(guests)"
   ]
  },
  {
   "cell_type": "code",
   "execution_count": null,
   "metadata": {},
   "outputs": [],
   "source": []
  },
  {
   "cell_type": "code",
   "execution_count": null,
   "metadata": {},
   "outputs": [],
   "source": []
  }
 ],
 "metadata": {
  "kernelspec": {
   "display_name": "Python 3",
   "language": "python",
   "name": "python3"
  },
  "language_info": {
   "codemirror_mode": {
    "name": "ipython",
    "version": 3
   },
   "file_extension": ".py",
   "mimetype": "text/x-python",
   "name": "python",
   "nbconvert_exporter": "python",
   "pygments_lexer": "ipython3",
   "version": "3.6.5"
  }
 },
 "nbformat": 4,
 "nbformat_minor": 2
}
