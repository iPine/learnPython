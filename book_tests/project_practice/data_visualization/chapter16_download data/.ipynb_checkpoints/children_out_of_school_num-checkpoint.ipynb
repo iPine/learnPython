{
 "cells": [
  {
   "cell_type": "code",
   "execution_count": 2,
   "metadata": {},
   "outputs": [
    {
     "name": "stdout",
     "output_type": "stream",
     "text": [
      "<_csv.reader object at 0x0000014301E37AD8>\n"
     ]
    },
    {
     "ename": "UnicodeDecodeError",
     "evalue": "'gbk' codec can't decode byte 0xbf in position 2: illegal multibyte sequence",
     "output_type": "error",
     "traceback": [
      "\u001b[1;31m---------------------------------------------------------------------------\u001b[0m",
      "\u001b[1;31mUnicodeDecodeError\u001b[0m                        Traceback (most recent call last)",
      "\u001b[1;32m<ipython-input-2-9e3219410e8f>\u001b[0m in \u001b[0;36m<module>\u001b[1;34m()\u001b[0m\n\u001b[0;32m     20\u001b[0m     \u001b[0mcountry_num\u001b[0m \u001b[1;33m=\u001b[0m \u001b[1;33m{\u001b[0m\u001b[1;33m}\u001b[0m\u001b[1;33m\u001b[0m\u001b[0m\n\u001b[0;32m     21\u001b[0m     \u001b[1;31m# 打印每个国家2010年的gdp\u001b[0m\u001b[1;33m\u001b[0m\u001b[1;33m\u001b[0m\u001b[0m\n\u001b[1;32m---> 22\u001b[1;33m     \u001b[1;32mfor\u001b[0m \u001b[0mrow\u001b[0m \u001b[1;32min\u001b[0m \u001b[0mislice\u001b[0m\u001b[1;33m(\u001b[0m\u001b[0moutschool_data\u001b[0m\u001b[1;33m,\u001b[0m\u001b[1;36m5\u001b[0m\u001b[1;33m,\u001b[0m\u001b[1;32mNone\u001b[0m\u001b[1;33m)\u001b[0m\u001b[1;33m:\u001b[0m\u001b[1;33m\u001b[0m\u001b[0m\n\u001b[0m\u001b[0;32m     23\u001b[0m \u001b[1;31m#         print(row)\u001b[0m\u001b[1;33m\u001b[0m\u001b[1;33m\u001b[0m\u001b[0m\n\u001b[0;32m     24\u001b[0m \u001b[1;31m#         print(row[0])\u001b[0m\u001b[1;33m\u001b[0m\u001b[1;33m\u001b[0m\u001b[0m\n",
      "\u001b[1;31mUnicodeDecodeError\u001b[0m: 'gbk' codec can't decode byte 0xbf in position 2: illegal multibyte sequence"
     ]
    }
   ],
   "source": [
    "import csv\n",
    "\n",
    "import pygal_maps_world.maps\n",
    "from pygal.style import RotateStyle as RS, LightColorizedStyle as LCS\n",
    "from itertools import islice \n",
    "\n",
    "from country_codes import get_country_code\n",
    "\n",
    "# import numpy as np\n",
    "# from matplotlib import pyplot as plt\n",
    "\n",
    "filename = 'children_out_of_school_primary_female.csv'\n",
    "\n",
    "\"\"\"从文件中读取国家、辍学人数\"\"\"\n",
    "cc_num = []\n",
    "with open(filename, encoding='gb18030', errors='ignore') as f:\n",
    "    outschool_data = csv.reader(f)\n",
    "    print(outschool_data)\n",
    "    \n",
    "    country_num = {}\n",
    "    # 打印每个国家2010年的gdp\n",
    "    for row in islice(outschool_data,5,None):\n",
    "#         print(row)\n",
    "#         print(row[0])\n",
    "        try:\n",
    "            country_num[row[0]] = int(row[60])\n",
    "        except ValueError:\n",
    "            print('missing data')\n",
    "    print(country_num.keys())\n",
    "    \n",
    "    cc_num = {}\n",
    "    for country_name in country_num.keys():\n",
    "        code = get_country_code(country_name)\n",
    "        print(code)\n",
    "        if code:\n",
    "            for number in country_num.values():\n",
    "                    cc_num[code] = number\n",
    "    print(cc_num)\n",
    "    \n",
    "    wm_style = RS('#664477',base_style=LCS)\n",
    "    #创建了一个 Worldmap 实例\n",
    "    wm = pygal_maps_world.maps.World(style=wm_style)\n",
    "    wm.title = 'Female children out of Primary School in 2016, by Country'\n",
    "  \n",
    "    wm.add('2016',cc_num)\n",
    "    wm.render_to_file('fechildren_out_of_primaryschool.svg')"
   ]
  },
  {
   "cell_type": "code",
   "execution_count": null,
   "metadata": {},
   "outputs": [],
   "source": []
  }
 ],
 "metadata": {
  "kernelspec": {
   "display_name": "Python 3",
   "language": "python",
   "name": "python3"
  },
  "language_info": {
   "codemirror_mode": {
    "name": "ipython",
    "version": 3
   },
   "file_extension": ".py",
   "mimetype": "text/x-python",
   "name": "python",
   "nbconvert_exporter": "python",
   "pygments_lexer": "ipython3",
   "version": "3.6.5"
  }
 },
 "nbformat": 4,
 "nbformat_minor": 2
}
