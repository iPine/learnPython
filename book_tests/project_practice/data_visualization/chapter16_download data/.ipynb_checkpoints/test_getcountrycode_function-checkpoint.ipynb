{
 "cells": [
  {
   "cell_type": "code",
   "execution_count": 1,
   "metadata": {},
   "outputs": [
    {
     "name": "stderr",
     "output_type": "stream",
     "text": [
      "test_country_code (__main__.CountrycodeTestCase)\n",
      "能够正确处理像'East Asia & Pacific (all income levels)这样的国家吗 ... ok\n",
      "\n",
      "----------------------------------------------------------------------\n",
      "Ran 1 test in 0.003s\n",
      "\n",
      "OK\n"
     ]
    },
    {
     "data": {
      "text/plain": [
       "<unittest.main.TestProgram at 0x1fd6de45b38>"
      ]
     },
     "execution_count": 1,
     "metadata": {},
     "output_type": "execute_result"
    }
   ],
   "source": [
    "import unittest\n",
    "\n",
    "from country_codes import get_country_code\n",
    "\n",
    "class CountrycodeTestCase(unittest.TestCase):\n",
    "    \"\"\"测试country_codes.py\"\"\"\n",
    "    \n",
    "    def test_country_code(self):\n",
    "        \"\"\"能够正确处理像'East Asia & Pacific (all income levels)这样的国家吗\"\"\"\n",
    "        #country_code = get_country_code('East Asia & Pacific (all income levels)')\n",
    "        #self.assertEqual(country_code,'al')\n",
    "        country_code = get_country_code('Albania')\n",
    "        self.assertEqual(country_code,'al')\n",
    "unittest.main(argv=['ignored', '-v'], exit=False)\n",
    "    "
   ]
  }
 ],
 "metadata": {
  "kernelspec": {
   "display_name": "Python 3",
   "language": "python",
   "name": "python3"
  },
  "language_info": {
   "codemirror_mode": {
    "name": "ipython",
    "version": 3
   },
   "file_extension": ".py",
   "mimetype": "text/x-python",
   "name": "python",
   "nbconvert_exporter": "python",
   "pygments_lexer": "ipython3",
   "version": "3.6.5"
  }
 },
 "nbformat": 4,
 "nbformat_minor": 2
}
