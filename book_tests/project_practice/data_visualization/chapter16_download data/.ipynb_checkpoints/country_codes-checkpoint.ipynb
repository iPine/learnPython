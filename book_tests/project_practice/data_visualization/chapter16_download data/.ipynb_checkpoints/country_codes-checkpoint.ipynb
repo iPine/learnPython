{
 "cells": [
  {
   "cell_type": "code",
   "execution_count": null,
   "metadata": {},
   "outputs": [],
   "source": [
    "from pygal.i18n import COUNTRIES\n",
    "\n",
    "def get_country_code(country_name):\n",
    "    \"\"\"根据指定的国家，返回Pygal使用的两个字母的国别码\"\"\"\n",
    "    \n",
    "    for code, name in COUNTRIES.items():\n",
    "        if name == country_name:\n",
    "            return code\n",
    "    #如果没有找到指定的国家，就返回None\n",
    "    return None"
   ]
  }
 ],
 "metadata": {
  "kernelspec": {
   "display_name": "Python 3",
   "language": "python",
   "name": "python3"
  },
  "language_info": {
   "codemirror_mode": {
    "name": "ipython",
    "version": 3
   },
   "file_extension": ".py",
   "mimetype": "text/x-python",
   "name": "python",
   "nbconvert_exporter": "python",
   "pygments_lexer": "ipython3",
   "version": "3.6.5"
  }
 },
 "nbformat": 4,
 "nbformat_minor": 2
}
