{
 "cells": [
  {
   "cell_type": "code",
   "execution_count": 6,
   "metadata": {},
   "outputs": [
    {
     "name": "stdout",
     "output_type": "stream",
     "text": [
      "85 69 2\n"
     ]
    }
   ],
   "source": [
    "import json\n",
    "\n",
    "import pygal\n",
    "import pygal_maps_world.maps\n",
    "\n",
    "from pygal.style import RotateStyle as RS, LightColorizedStyle as LCS\n",
    "\n",
    "from country_codes import get_country_code\n",
    "\n",
    "\n",
    "# 将数据加载到一个列表中\n",
    "filename = 'population_data.json'\n",
    "with open(filename) as f: \n",
    "    pop_data = json.load(f)\n",
    " \n",
    "    #创建一个包含人口数量的字典\n",
    "    cc_populations = {}\n",
    "# 打印每个国家2010年的人口数量 \n",
    "    for pop_dict in pop_data:\n",
    "        if pop_dict['Year'] == '2010': \n",
    "            country_name = pop_dict['Country Name']\n",
    "            #将字符串转换为数字值\n",
    "            population = int(float(pop_dict['Value']))\n",
    "#             print(country_name + \": \" + str(population))\n",
    "\n",
    "            code = get_country_code(country_name)\n",
    "            if code:\n",
    "                cc_populations[code] = population\n",
    "            \n",
    "    #根据人口数量将所有国家分成3组\n",
    "    cc_pops_1,cc_pops_2,cc_pops_3 = {},{},{}\n",
    "    for cc,pop in cc_populations.items():\n",
    "        if pop < 10000000:\n",
    "            cc_pops_1[cc] = pop\n",
    "        elif pop < 1000000000:\n",
    "            cc_pops_2[cc] = pop\n",
    "        else:\n",
    "            cc_pops_3[cc] = pop\n",
    "    #打印看下每组有多少个国家\n",
    "    print(len(cc_pops_1),len(cc_pops_2),len(cc_pops_3))\n",
    "    \n",
    "    #Pygal将根据指定的颜色为每组选择颜色。\n",
    "    wm_style = RS('#336699',base_style=LCS)\n",
    "    #创建了一个 Worldmap 实例\n",
    "    wm = pygal_maps_world.maps.World(style=wm_style)\n",
    "    wm.title = 'World Population in 2010, by Country'\n",
    "    #add()接受一个标签和一个字典（列表）\n",
    "#     wm.add('2010',cc_populations)\n",
    "    #分组添加，每组的颜色不相同；且组内颜色深浅不一\n",
    "    wm.add('0-100m',cc_pops_1)\n",
    "    wm.add('100m-1bn',cc_pops_2)\n",
    "    wm.add('>1bn',cc_pops_3)\n",
    "    \n",
    "    wm.render_to_file('world_population.svg')\n",
    "            \n",
    "            \n",
    "            \n",
    "            \n",
    "            \n",
    "            \n",
    "            \n",
    "            \n",
    "            \n",
    "            \n",
    "            "
   ]
  },
  {
   "cell_type": "code",
   "execution_count": null,
   "metadata": {},
   "outputs": [],
   "source": []
  }
 ],
 "metadata": {
  "kernelspec": {
   "display_name": "Python 3",
   "language": "python",
   "name": "python3"
  },
  "language_info": {
   "codemirror_mode": {
    "name": "ipython",
    "version": 3
   },
   "file_extension": ".py",
   "mimetype": "text/x-python",
   "name": "python",
   "nbconvert_exporter": "python",
   "pygments_lexer": "ipython3",
   "version": "3.6.5"
  }
 },
 "nbformat": 4,
 "nbformat_minor": 2
}
