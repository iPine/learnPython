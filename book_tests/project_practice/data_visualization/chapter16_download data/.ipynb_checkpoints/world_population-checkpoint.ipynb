{
 "cells": [
  {
   "cell_type": "code",
   "execution_count": 2,
   "metadata": {},
   "outputs": [],
   "source": [
    "import json\n",
    "\n",
    "import pygal\n",
    "import pygal_maps_world.maps\n",
    "\n",
    "from country_codes import get_country_code\n",
    "\n",
    "\n",
    "# 将数据加载到一个列表中\n",
    "filename = 'population_data.json'\n",
    "with open(filename) as f: \n",
    "    pop_data = json.load(f)\n",
    " \n",
    "    #创建一个包含人口数量的字典\n",
    "    cc_populations = {}\n",
    "# 打印每个国家2010年的人口数量 \n",
    "    for pop_dict in pop_data:\n",
    "        if pop_dict['Year'] == '2010': \n",
    "            country_name = pop_dict['Country Name']\n",
    "            #将字符串转换为数字值\n",
    "            population = int(float(pop_dict['Value']))\n",
    "#             print(country_name + \": \" + str(population))\n",
    "\n",
    "            code = get_country_code(country_name)\n",
    "            if code:\n",
    "               cc_populations[code] = population\n",
    "    wm = pygal_maps_world.maps.World()\n",
    "    wm.title = 'World Population in 2010, by Country'\n",
    "    #add()接受一个标签和一个字典（列表）\n",
    "    wm.add('2010',cc_populations)\n",
    "    \n",
    "    wm.render_to_file('world_population.svg')\n",
    "            \n",
    "            \n",
    "            \n",
    "            \n",
    "            \n",
    "            \n",
    "            \n",
    "            \n",
    "            \n",
    "            \n",
    "            "
   ]
  },
  {
   "cell_type": "code",
   "execution_count": null,
   "metadata": {},
   "outputs": [],
   "source": []
  }
 ],
 "metadata": {
  "kernelspec": {
   "display_name": "Python 3",
   "language": "python",
   "name": "python3"
  },
  "language_info": {
   "codemirror_mode": {
    "name": "ipython",
    "version": 3
   },
   "file_extension": ".py",
   "mimetype": "text/x-python",
   "name": "python",
   "nbconvert_exporter": "python",
   "pygments_lexer": "ipython3",
   "version": "3.6.5"
  }
 },
 "nbformat": 4,
 "nbformat_minor": 2
}
