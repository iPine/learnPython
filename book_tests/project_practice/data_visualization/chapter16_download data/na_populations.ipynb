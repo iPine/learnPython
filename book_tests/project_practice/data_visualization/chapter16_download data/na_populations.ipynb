{
 "cells": [
  {
   "cell_type": "code",
   "execution_count": 1,
   "metadata": {},
   "outputs": [],
   "source": [
    "import pygal_maps_world.maps\n",
    "\n",
    "wm =pygal_maps_world.maps.World()\n",
    "wm.title = 'Populations of Countries in North America' \n",
    "wm.add('North America', {'ca': 34126000, 'us': 309349000, 'mx': 113423000})\n",
    "wm.render_to_file('na_populations.svg')"
   ]
  },
  {
   "cell_type": "code",
   "execution_count": null,
   "metadata": {},
   "outputs": [],
   "source": []
  }
 ],
 "metadata": {
  "kernelspec": {
   "display_name": "Python 3",
   "language": "python",
   "name": "python3"
  },
  "language_info": {
   "codemirror_mode": {
    "name": "ipython",
    "version": 3
   },
   "file_extension": ".py",
   "mimetype": "text/x-python",
   "name": "python",
   "nbconvert_exporter": "python",
   "pygments_lexer": "ipython3",
   "version": "3.6.5"
  }
 },
 "nbformat": 4,
 "nbformat_minor": 2
}
