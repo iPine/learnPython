{
 "cells": [
  {
   "cell_type": "code",
   "execution_count": 2,
   "metadata": {
    "scrolled": true
   },
   "outputs": [],
   "source": [
    "import csv\n",
    "import numpy as np\n",
    "from matplotlib import pyplot as plt\n",
    "   \n",
    "\n",
    "class HighsLowsVisual():\n",
    "    \"\"\"用于可视化最低温度和最高温度的折线\"\"\"\n",
    "    \n",
    "    def __init__(self,dates,highs,lows):\n",
    "        self.dates = dates\n",
    "        self.highs = highs\n",
    "        self.lows = lows\n",
    "        \n",
    "    def highs_lows_visual(self):\n",
    "        \"\"\"可视化最高温、最低温\"\"\"\n",
    "        #根据数据绘制图形\n",
    "        fig = plt.figure(dpi=128, figsize=(10, 6))\n",
    "        plt.plot(self.dates,self.highs,c='red',alpha=0.5)\n",
    "        #在绘制一条折线\n",
    "        plt.plot(self.dates,self.lows,c='blue',alpha=0.5)\n",
    "        plt.fill_between(self.dates, self.highs, self.lows, facecolor='blue', alpha=0.1)\n",
    "\n",
    "        #设置图形格式\n",
    "        title = \"Daily high and low temperatures - 2014\\nDeath Valley, CA\"\n",
    "        plt.title(title, fontsize=24) \n",
    "        plt.xlabel('', fontsize=16)\n",
    "        #调用了 fig.autofmt_xdate() 来绘制斜的日期标签，以免它们彼此重叠\n",
    "        fig.autofmt_xdate()\n",
    "        plt.ylabel(\"Temperature (F)\", fontsize=16)\n",
    "        plt.tick_params(axis='both', which='major', labelsize=16)\n",
    "        #设置Y轴刻度\n",
    "        my_y_ticks = np.arange(0,120,step=10)\n",
    "        plt.yticks(my_y_ticks)\n",
    "\n",
    "        plt.show()\n",
    "\n",
    "        "
   ]
  },
  {
   "cell_type": "code",
   "execution_count": null,
   "metadata": {},
   "outputs": [],
   "source": []
  }
 ],
 "metadata": {
  "kernelspec": {
   "display_name": "Python 3",
   "language": "python",
   "name": "python3"
  },
  "language_info": {
   "codemirror_mode": {
    "name": "ipython",
    "version": 3
   },
   "file_extension": ".py",
   "mimetype": "text/x-python",
   "name": "python",
   "nbconvert_exporter": "python",
   "pygments_lexer": "ipython3",
   "version": "3.6.5"
  }
 },
 "nbformat": 4,
 "nbformat_minor": 2
}
