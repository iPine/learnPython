{
 "cells": [
  {
   "cell_type": "code",
   "execution_count": null,
   "metadata": {},
   "outputs": [],
   "source": [
    "import csv\n",
    "\n",
    "def read_file(filename):\n",
    "    \"\"\"从文件中读取最高气温、最低气温、日期\"\"\"\n",
    "    with open(filename) as f:\n",
    "        reader = csv.reader(f)\n",
    "        header_row = next(reader)\n",
    "\n",
    "        dates, highs, lows = [],[],[]\n",
    "        for row in reader:\n",
    "            try:\n",
    "                current_date = datetime.strptime(row[0], \"%Y-%m-%d\")\n",
    "                high = int(row[1])\n",
    "                low = int(row[3])\n",
    "            except ValueError: \n",
    "                print(current_date, 'missing data')\n",
    "            else: \n",
    "                dates.append(current_date)\n",
    "                highs.append(high)\n",
    "                lows.append(low)\n",
    "    return dates,highs,lows"
   ]
  }
 ],
 "metadata": {
  "kernelspec": {
   "display_name": "Python 3",
   "language": "python",
   "name": "python3"
  },
  "language_info": {
   "codemirror_mode": {
    "name": "ipython",
    "version": 3
   },
   "file_extension": ".py",
   "mimetype": "text/x-python",
   "name": "python",
   "nbconvert_exporter": "python",
   "pygments_lexer": "ipython3",
   "version": "3.6.5"
  }
 },
 "nbformat": 4,
 "nbformat_minor": 2
}
