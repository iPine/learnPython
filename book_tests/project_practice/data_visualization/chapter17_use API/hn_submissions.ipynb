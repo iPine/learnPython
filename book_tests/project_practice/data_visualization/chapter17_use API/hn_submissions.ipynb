{
 "cells": [
  {
   "cell_type": "code",
   "execution_count": 9,
   "metadata": {},
   "outputs": [
    {
     "name": "stdout",
     "output_type": "stream",
     "text": [
      "Status code: 200\n",
      "200\n",
      "200\n",
      "200\n",
      "200\n",
      "200\n",
      "200\n",
      "200\n",
      "200\n",
      "200\n",
      "200\n",
      "200\n",
      "200\n",
      "200\n",
      "200\n",
      "200\n",
      "200\n",
      "200\n",
      "200\n",
      "200\n",
      "200\n"
     ]
    }
   ],
   "source": [
    "import requests\n",
    "import pygal\n",
    "\n",
    "from operator import itemgetter\n",
    "from pygal.style import LightColorizedStyle as LCS, LightenStyle as LS\n",
    "\n",
    "#执行API调用并存储响应,先找到热门的文章ID\n",
    "url = 'https://hacker-news.firebaseio.com/v0/topstories.json'\n",
    "r = requests.get(url,timeout = 1500)\n",
    "print('Status code:',r.status_code)\n",
    "\n",
    "#处理有关每篇文字的信息\n",
    "submission_ids = r.json()\n",
    "submission_dicts = []\n",
    "ids = []\n",
    "for submission_id in submission_ids[:20]:\n",
    "    #对于每篇文章，都执行一个API调用\n",
    "    #每篇文章的URL需要前面获取的文章ID\n",
    "    url = ('https://hacker-news.firebaseio.com/v0/item/' + str(submission_id) + '.json')\n",
    "    submission_r = requests.get(url)\n",
    "    print(submission_r.status_code)\n",
    "    response_dict = submission_r.json()\n",
    "    ids.append(response_dict['by'])\n",
    "    submission_dict = {\n",
    "        'label':response_dict['title'],\n",
    "        'xlink': 'http://news.ycombinator.com/item?id=' + str(submission_id),\n",
    "        #若没找到后代就返回0\n",
    "        'value':response_dict.get('descendants',0)\n",
    "    }\n",
    "    submission_dicts.append(submission_dict)\n",
    "#  按照评论数，降序排   \n",
    "submission_dicts = sorted(submission_dicts,key=itemgetter('value'),reverse=True)\n",
    "\n",
    "\n",
    "# for submission_dict in submission_dicts:\n",
    "#     print(\"\\nTitle:\", submission_dict['title'])\n",
    "#     print(\"Discussion link:\", submission_dict['link'])\n",
    "#     print(\"Comments:\", submission_dict['comments'])\n",
    "\n",
    "#可视化\n",
    "my_style = LS('#666633',base_style=LCS)\n",
    "\n",
    "my_config = pygal.Config()\n",
    "my_config.x_label_rotation = 45\n",
    "my_config.show_legend = False\n",
    "my_config.title_font_size = 24\n",
    "my_config.label_font_size = 14\n",
    "my_config.major_label_font_size = 18\n",
    "my_config.truncate_label = 15\n",
    "my_config.show_y_guides = False\n",
    "my_config.width = 1000\n",
    "\n",
    "chart = pygal.Bar(my_config,style=my_style)\n",
    "chart.title = 'Most-Popular Discussion on Hacker News'\n",
    "chart.x_labels = ids\n",
    "#不需要标签；横坐标设置了名字\n",
    "chart.add('',submission_dicts)\n",
    "chart.render_to_file('popular_discussions.svg')"
   ]
  },
  {
   "cell_type": "code",
   "execution_count": null,
   "metadata": {},
   "outputs": [],
   "source": []
  }
 ],
 "metadata": {
  "kernelspec": {
   "display_name": "Python 3",
   "language": "python",
   "name": "python3"
  },
  "language_info": {
   "codemirror_mode": {
    "name": "ipython",
    "version": 3
   },
   "file_extension": ".py",
   "mimetype": "text/x-python",
   "name": "python",
   "nbconvert_exporter": "python",
   "pygments_lexer": "ipython3",
   "version": "3.6.5"
  }
 },
 "nbformat": 4,
 "nbformat_minor": 2
}
