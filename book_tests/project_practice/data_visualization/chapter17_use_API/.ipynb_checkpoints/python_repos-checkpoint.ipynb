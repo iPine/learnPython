{
 "cells": [
  {
   "cell_type": "code",
   "execution_count": 1,
   "metadata": {},
   "outputs": [
    {
     "name": "stdout",
     "output_type": "stream",
     "text": [
      "Status code: 200\n",
      "Total repositories: 2969945\n"
     ]
    }
   ],
   "source": [
    "import requests\n",
    "import pygal\n",
    "from pygal.style import LightColorizedStyle as LCS, LightenStyle as LS\n",
    "\n",
    "#执行API调用并存储响应\n",
    "# url =  'https://api.github.com/search/repositories?q=language:python&sort=stars'\n",
    "url =  'https://api.github.com/search/repositories?q=language:javascript&sort=stars'\n",
    "#使用 requests来执行调用\n",
    "r = requests.get(url)\n",
    "#响应对象包含一个名为 status_code 的属性，它让我们知道请求是否成功了（状态码200表示请求成功）\n",
    "print('Status code:',r.status_code)\n",
    "\n",
    "#将API响应存储在一个变量中\n",
    "#使用方法 json() 将这些信息转换为一个Python字典\n",
    "response_dict = r.json()\n",
    "print(\"Total repositories:\",response_dict['total_count'])\n",
    "\n",
    "#探索有关仓库的信息\n",
    "repo_dicts = response_dict['items']\n",
    "\n",
    "\n",
    "names,plot_dicts = [],[]\n",
    "for repo_dict in repo_dicts:\n",
    "    names.append(repo_dict['name'])\n",
    "    #stars.append(repo_dict['stargazers_count'])  \n",
    "    if repo_dict['description']:\n",
    "        plot_dict = {\n",
    "            'value':repo_dict['stargazers_count'],\n",
    "            'label':repo_dict['description'],\n",
    "            'xlink':repo_dict['html_url']\n",
    "        }\n",
    "    else:\n",
    "        plot_dict = {\n",
    "            'value':repo_dict['stargazers_count'],\n",
    "            'label':'No description!',\n",
    "            'xlink':repo_dict['html_url']\n",
    "        }\n",
    "    plot_dicts.append(plot_dict)\n",
    "\n",
    "#可视化\n",
    "my_style = LS('#663333',base_style=LCS)\n",
    "\n",
    "#创建了一个Pygal类 Config 的实例\n",
    "#通过修改 my_config的属性，可定制图表的外观\n",
    "my_config = pygal.Config()\n",
    "my_config.x_label_rotation = 45\n",
    "my_config.show_legend = False\n",
    "#标题字体大小\n",
    "my_config.title_font_size = 24\n",
    "#副标签字体大小\n",
    "my_config.label_font_size = 14\n",
    "#主标签字体大小\n",
    "my_config.major_label_font_size = 18\n",
    "#使用truncate_label 将较长的项目名缩短为15个字符\n",
    "my_config.truncate_label = 15\n",
    "#隐藏图表中的水平虚线\n",
    "my_config.show_y_guides = False\n",
    "my_config.width = 1000\n",
    "\n",
    "chart = pygal.Bar(my_config,style=my_style)\n",
    "# chart.title = 'Most-Starred Python Projects on GitHub'\n",
    "chart.title = 'Most-Starred JavaScript Projects on GitHub'\n",
    "chart.x_labels = names\n",
    "\n",
    "# chart.add('',stars)\n",
    "chart.add('',plot_dicts)\n",
    "# chart.render_to_file('python_repos.html')\n",
    "chart.render_to_file('javascript_repos.svg')\n",
    "\n",
    "\n",
    "\n"
   ]
  },
  {
   "cell_type": "code",
   "execution_count": null,
   "metadata": {},
   "outputs": [],
   "source": []
  }
 ],
 "metadata": {
  "kernelspec": {
   "display_name": "Python 3",
   "language": "python",
   "name": "python3"
  },
  "language_info": {
   "codemirror_mode": {
    "name": "ipython",
    "version": 3
   },
   "file_extension": ".py",
   "mimetype": "text/x-python",
   "name": "python",
   "nbconvert_exporter": "python",
   "pygments_lexer": "ipython3",
   "version": "3.6.5"
  }
 },
 "nbformat": 4,
 "nbformat_minor": 2
}
