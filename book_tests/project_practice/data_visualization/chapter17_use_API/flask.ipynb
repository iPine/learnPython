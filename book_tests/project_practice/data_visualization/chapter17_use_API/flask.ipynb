{
 "cells": [
  {
   "cell_type": "code",
   "execution_count": null,
   "metadata": {},
   "outputs": [],
   "source": [
    "from flask import Flask  # 导入Flask包\n",
    "\n",
    "app = Flask(__name__)  # 获取Flask对象，以当前模块名为参数\n",
    "\n",
    "\n",
    "# 路由默认为（127.0.0.1:5000）\n",
    "@app.route('/')  # 装饰器对该方法进行路由设置，请求的地址\n",
    "def show_svg():  # 方法名称\n",
    "    return 'Hello flask'  # 返回响应的内容\n",
    "\n",
    "\n",
    "if __name__ == '__main__':\n",
    "    app.run()\n"
   ]
  },
  {
   "cell_type": "code",
   "execution_count": null,
   "metadata": {},
   "outputs": [],
   "source": []
  }
 ],
 "metadata": {
  "kernelspec": {
   "display_name": "Python 3",
   "language": "python",
   "name": "python3"
  },
  "language_info": {
   "codemirror_mode": {
    "name": "ipython",
    "version": 3
   },
   "file_extension": ".py",
   "mimetype": "text/x-python",
   "name": "python",
   "nbconvert_exporter": "python",
   "pygments_lexer": "ipython3",
   "version": "3.6.5"
  }
 },
 "nbformat": 4,
 "nbformat_minor": 2
}
