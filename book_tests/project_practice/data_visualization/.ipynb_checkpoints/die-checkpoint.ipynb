{
 "cells": [
  {
   "cell_type": "code",
   "execution_count": null,
   "metadata": {},
   "outputs": [],
   "source": [
    "from random import randint\n",
    "\n",
    "class Die():\n",
    "    \"\"\"表示一个骰子的类\"\"\"\n",
    "    \n",
    "    def __init__(self,num_sides=6):\n",
    "        \"\"\"骰子默认为6面\"\"\"\n",
    "        self.num_sides = num_sides\n",
    "        \n",
    "    def roll(self):\n",
    "        \"\"\"返回一个位于1和骰子面数之间的随机数\"\"\"\n",
    "        return randint(1,self.num_sides)"
   ]
  }
 ],
 "metadata": {
  "kernelspec": {
   "display_name": "Python 3",
   "language": "python",
   "name": "python3"
  },
  "language_info": {
   "codemirror_mode": {
    "name": "ipython",
    "version": 3
   },
   "file_extension": ".py",
   "mimetype": "text/x-python",
   "name": "python",
   "nbconvert_exporter": "python",
   "pygments_lexer": "ipython3",
   "version": "3.6.5"
  }
 },
 "nbformat": 4,
 "nbformat_minor": 2
}
