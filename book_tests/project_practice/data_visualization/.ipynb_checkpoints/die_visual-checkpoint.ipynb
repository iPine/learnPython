{
 "cells": [
  {
   "cell_type": "code",
   "execution_count": 8,
   "metadata": {},
   "outputs": [],
   "source": [
    "import pygal\n",
    "\n",
    "from die import Die\n",
    "\n",
    "#创建一个D6，表示骰子为6面\n",
    "die = Die()\n",
    "\n",
    "#掷几次骰子，并将结果存储在一个列表中\n",
    "results = []\n",
    "# for roll_num in range(1000):\n",
    "#     result = die.roll()\n",
    "#     results.append(result)\n",
    "#以列表解析方式写\n",
    "results = [die.roll() for result in range(1000)]\n",
    "# print(results)\n",
    "    \n",
    "# 分析结果\n",
    "frequencies = []\n",
    "# for value in range(1, die.num_sides+1):\n",
    "#     #直接调用count计算\n",
    "#     frequency = results.count(value)\n",
    "#     frequencies.append(frequency)\n",
    "\n",
    "#以列表解析方式写\n",
    "frequencies = [results.count(value) for value in range(1,die.num_sides+1)]\n",
    "#print(frequencies)\n",
    "\n",
    "# 对结果进行可视化,绘制直方图\n",
    "hist = pygal.Bar()\n",
    "hist.title = \"Results of rolling one D6 1000 times.\"\n",
    "#hist.x_labels = ['1', '2', '3', '4', '5', '6']\n",
    "hist.x_labels = [num for num in range(1,7)]\n",
    "\n",
    "hist.x_title = \"Result\"\n",
    "hist.y_title = \"Frequency of Result\"\n",
    "hist.add('D6', frequencies)\n",
    "hist.render_to_file('die_visual.svg')"
   ]
  },
  {
   "cell_type": "code",
   "execution_count": null,
   "metadata": {},
   "outputs": [],
   "source": []
  }
 ],
 "metadata": {
  "kernelspec": {
   "display_name": "Python 3",
   "language": "python",
   "name": "python3"
  },
  "language_info": {
   "codemirror_mode": {
    "name": "ipython",
    "version": 3
   },
   "file_extension": ".py",
   "mimetype": "text/x-python",
   "name": "python",
   "nbconvert_exporter": "python",
   "pygments_lexer": "ipython3",
   "version": "3.6.5"
  }
 },
 "nbformat": 4,
 "nbformat_minor": 2
}
