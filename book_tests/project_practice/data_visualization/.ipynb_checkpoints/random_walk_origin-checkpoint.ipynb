{
 "cells": [
  {
   "cell_type": "code",
   "execution_count": null,
   "metadata": {},
   "outputs": [],
   "source": [
    "from random import choice\n",
    "\n",
    "\n",
    "class RandomWalk():\n",
    "    \"\"\"一个生成随机漫步数据的类\"\"\"\n",
    "    \n",
    "    def __init__(self,num_points=5000):\n",
    "        \"\"\"初始化随机漫步的属性\"\"\"\n",
    "        self.num_points = num_points\n",
    "        \n",
    "        #所有随机漫步始于(0,0)\n",
    "        self.x_values = [0]\n",
    "        self.y_values = [0]\n",
    "        \n",
    "    def fill_walk(self):\n",
    "        \"\"\"计算随机漫步包含的所有点\"\"\"\n",
    "        \n",
    "        #不断漫步，直到列表达到指定长度\n",
    "        while len(self.x_values) < self.num_points:\n",
    "            #决定前进方向以及沿这个方向前进的距离\n",
    "            x_direction = choice([1,-1])\n",
    "            x_distance = choice([0,1,2,3,4])\n",
    "            x_step = x_direction * x_distance\n",
    "            \n",
    "            y_direction = choice([1,-1])\n",
    "            y_distance = choice([0,1,2,3,4])\n",
    "            y_step = y_direction * y_distance\n",
    "            \n",
    "            #拒绝原地踏步\n",
    "            if x_step == 0 and y_step == 90:\n",
    "                continue\n",
    "                \n",
    "            #计算下一个点的x和y值\n",
    "            next_x = self.x_values[-1] + x_step\n",
    "            next_y = self.y_values[-1] + y_step\n",
    "            \n",
    "            self.x_values.append(next_x)\n",
    "            self.y_values.append(next_y)"
   ]
  }
 ],
 "metadata": {
  "kernelspec": {
   "display_name": "Python 3",
   "language": "python",
   "name": "python3"
  },
  "language_info": {
   "codemirror_mode": {
    "name": "ipython",
    "version": 3
   },
   "file_extension": ".py",
   "mimetype": "text/x-python",
   "name": "python",
   "nbconvert_exporter": "python",
   "pygments_lexer": "ipython3",
   "version": "3.6.5"
  }
 },
 "nbformat": 4,
 "nbformat_minor": 2
}
