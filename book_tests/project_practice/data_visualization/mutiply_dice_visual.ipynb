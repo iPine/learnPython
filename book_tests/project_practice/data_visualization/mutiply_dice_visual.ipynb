{
 "cells": [
  {
   "cell_type": "code",
   "execution_count": 1,
   "metadata": {},
   "outputs": [],
   "source": [
    "import pygal\n",
    "\n",
    "from die import Die\n",
    "\n",
    "#创建两个D8骰子\n",
    "die_1 = Die(8)\n",
    "die_2 = Die(8)\n",
    "\n",
    "#掷骰子多次，并将结果存储到一个列表\n",
    "results = []\n",
    "# for roll_num in range(1000):\n",
    "#     result = die_1.roll() + die_2.roll()\n",
    "#     results.append(result)\n",
    "results = [(die_1.roll() * die_2.roll()) for roll_num in range(5000)]\n",
    "    \n",
    "# 分析结果\n",
    "frequencies = []\n",
    "max_result = die_1.num_sides * die_2.num_sides\n",
    "# for value in range(2, max_result+1):\n",
    "#     frequency = results.count(value)\n",
    "#     frequencies.append(frequency)\n",
    "frequencies = [results.count(value) for value in range(2,max_result+1)]\n",
    "    \n",
    "# 可视化结果\n",
    "hist = pygal.Bar()\n",
    "hist.title = \"Results of rolling two D6 dice 5000 times.\"\n",
    "#hist.x_labels = ['1', '2', '4', '5', '6', '7', '8', '9', '10', '11', '12']\n",
    "hist.x_labels = [value for value in range(1,max_result+1)]\n",
    "hist.x_title = \"Result\"\n",
    "hist.y_title = \"Frequency of Result\"\n",
    "hist.add('D8 * D8', frequencies)\n",
    "hist.render_to_file('dice_visual_D8_multiply.svg')"
   ]
  }
 ],
 "metadata": {
  "kernelspec": {
   "display_name": "Python 3",
   "language": "python",
   "name": "python3"
  },
  "language_info": {
   "codemirror_mode": {
    "name": "ipython",
    "version": 3
   },
   "file_extension": ".py",
   "mimetype": "text/x-python",
   "name": "python",
   "nbconvert_exporter": "python",
   "pygments_lexer": "ipython3",
   "version": "3.6.5"
  }
 },
 "nbformat": 4,
 "nbformat_minor": 2
}
