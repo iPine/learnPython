{
 "cells": [
  {
   "cell_type": "code",
   "execution_count": 1,
   "metadata": {},
   "outputs": [
    {
     "name": "stdout",
     "output_type": "stream",
     "text": [
      "2016 Tesla Model S\n",
      "This car has 50 miles on it.\n",
      "This car has a 60-kWh battery.\n",
      "This car can go approximately 220 miles on a full charge.\n",
      "This car has a 85-kWh battery.\n",
      "This car can go approximately 270 miles on a full charge.\n"
     ]
    }
   ],
   "source": [
    "\"\"\"在一个模块中存储多个类：car模块中包含Car类、ElectricCar类\"\"\"\n",
    "from car import ElectricCar\n",
    "\n",
    "\n",
    "#实例化电动汽车\n",
    "my_tesla = ElectricCar('tesla', 'model s', 2016)\n",
    "print(my_tesla.get_descriptive_name())\n",
    "\n",
    "#方法修改里程属性\n",
    "my_tesla.update_odometer(50)\n",
    "my_tesla.read_odometer()\n",
    "\n",
    "#电池类作为电动汽车的一个属性\n",
    "my_tesla.battery.describe_battery()\n",
    "\n",
    "#调用方法get_rang()\n",
    "my_tesla.battery.get_range()\n",
    "\n",
    "#调用放大upgrade_battery()\n",
    "my_tesla.battery.upgrade_battery()\n",
    "my_tesla.battery.describe_battery()\n",
    "my_tesla.battery.get_range()"
   ]
  },
  {
   "cell_type": "code",
   "execution_count": null,
   "metadata": {},
   "outputs": [],
   "source": []
  },
  {
   "cell_type": "code",
   "execution_count": null,
   "metadata": {},
   "outputs": [],
   "source": []
  }
 ],
 "metadata": {
  "kernelspec": {
   "display_name": "Python 3",
   "language": "python",
   "name": "python3"
  },
  "language_info": {
   "codemirror_mode": {
    "name": "ipython",
    "version": 3
   },
   "file_extension": ".py",
   "mimetype": "text/x-python",
   "name": "python",
   "nbconvert_exporter": "python",
   "pygments_lexer": "ipython3",
   "version": "3.6.5"
  }
 },
 "nbformat": 4,
 "nbformat_minor": 2
}
