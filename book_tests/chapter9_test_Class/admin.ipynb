{
 "cells": [
  {
   "cell_type": "code",
   "execution_count": 2,
   "metadata": {},
   "outputs": [
    {
     "name": "stdout",
     "output_type": "stream",
     "text": [
      "Hello, Feng Luo\n",
      "\n",
      "Your information include:\n",
      "First name: Feng\n",
      "Last name: Luo\n",
      "Location: Sichuan\n",
      "Admin has the following privileges: \n",
      "can add post\n",
      "can delete post\n",
      "can ban user\n"
     ]
    }
   ],
   "source": [
    "class User:\n",
    "    def __init__(self,first_name,last_name,location):\n",
    "        self.first_name = first_name\n",
    "        self.last_name = last_name\n",
    "        self.location = location\n",
    "#         for key,value in user_info.items():\n",
    "#             self[key] = value\n",
    "        self.login_attempts = 0\n",
    "        \n",
    "    def describe_user(self):\n",
    "        print('Your information include:')\n",
    "        print('First name: '+ self.first_name.title())\n",
    "        print('Last name: '+ self.last_name.title())\n",
    "        print('Location: ' + self.location.title())\n",
    "#         print('Other info: '+self[key].title())\n",
    "    \n",
    "    def greet_user(self):\n",
    "        print('Hello, ' + self.first_name.title() + ' ' + self.last_name.title()+'\\n')\n",
    "        \n",
    "    def increment_login_attempts(self,increment=1):\n",
    "        #increment设置成默认参数可行，设置成可选参数也行increment=\"\"\n",
    "        #if increment:\n",
    "            self.login_attempts += increment\n",
    "        #else:\n",
    "        #    self.login_attempts += 1\n",
    "        \n",
    "    def reset_login_attempts(self):\n",
    "        self.login_attempts = 0\n",
    "\n",
    "class Admin(User):\n",
    "    def __init__(self,first_name,last_name,location):\n",
    "        super().__init__(first_name,last_name,location)\n",
    "        self.privileges = [ \"can add post\",\"can delete post\",\"can ban user\"]\n",
    "    \n",
    "    def show_privileges(self):\n",
    "        print('Admin has the following privileges: ')\n",
    "        for privilege in self.privileges:\n",
    "            print(privilege)\n",
    "\n",
    "admin0 = Admin('feng','luo','sichuan')\n",
    "admin0.greet_user()\n",
    "admin0.describe_user()\n",
    "admin0.increment_login_attempts()\n",
    "admin0.show_privileges()"
   ]
  },
  {
   "cell_type": "code",
   "execution_count": null,
   "metadata": {},
   "outputs": [],
   "source": []
  }
 ],
 "metadata": {
  "kernelspec": {
   "display_name": "Python 3",
   "language": "python",
   "name": "python3"
  },
  "language_info": {
   "codemirror_mode": {
    "name": "ipython",
    "version": 3
   },
   "file_extension": ".py",
   "mimetype": "text/x-python",
   "name": "python",
   "nbconvert_exporter": "python",
   "pygments_lexer": "ipython3",
   "version": "3.6.5"
  }
 },
 "nbformat": 4,
 "nbformat_minor": 2
}
