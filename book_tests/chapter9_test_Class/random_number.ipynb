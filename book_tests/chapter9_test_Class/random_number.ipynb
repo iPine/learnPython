{
 "cells": [
  {
   "cell_type": "code",
   "execution_count": 9,
   "metadata": {},
   "outputs": [
    {
     "name": "stdout",
     "output_type": "stream",
     "text": [
      "16\n",
      "17\n",
      "19\n",
      "13\n",
      "18\n",
      "4\n",
      "14\n",
      "9\n",
      "12\n",
      "13\n"
     ]
    }
   ],
   "source": [
    "from random import randint\n",
    "\n",
    "class Die():\n",
    "    \n",
    "    def __init__(self,sides=6):\n",
    "        self.sides = sides\n",
    "        \n",
    "    def roll_die(self):\n",
    "        number = randint(1,self.sides)\n",
    "        print(number)\n",
    "\n",
    "my_die = Die()\n",
    "my_die1 = Die(10)\n",
    "my_die2 = Die(20)\n",
    "#借助range控制循环次数\n",
    "for times in range(10):\n",
    "#     my_die.roll_die()\n",
    "#     my_die1.roll_die()\n",
    "    my_die2.roll_die()\n",
    "\n"
   ]
  },
  {
   "cell_type": "code",
   "execution_count": null,
   "metadata": {},
   "outputs": [],
   "source": []
  }
 ],
 "metadata": {
  "kernelspec": {
   "display_name": "Python 3",
   "language": "python",
   "name": "python3"
  },
  "language_info": {
   "codemirror_mode": {
    "name": "ipython",
    "version": 3
   },
   "file_extension": ".py",
   "mimetype": "text/x-python",
   "name": "python",
   "nbconvert_exporter": "python",
   "pygments_lexer": "ipython3",
   "version": "3.6.5"
  }
 },
 "nbformat": 4,
 "nbformat_minor": 2
}
