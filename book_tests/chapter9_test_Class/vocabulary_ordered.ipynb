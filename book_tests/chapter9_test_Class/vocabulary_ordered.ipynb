{
 "cells": [
  {
   "cell_type": "code",
   "execution_count": 1,
   "metadata": {},
   "outputs": [
    {
     "name": "stdout",
     "output_type": "stream",
     "text": [
      "\n",
      "Alex likes C++\n",
      "\n",
      "Bob likes Python\n",
      "\n",
      "Tom likes Javascript\n",
      "\n",
      "David likes Ruby\n",
      "\n",
      "Jerry likes C#\n"
     ]
    }
   ],
   "source": [
    "from collections import OrderedDict\n",
    "\n",
    "# vocabularies = {\n",
    "#     'alex': 'c++',\n",
    "#     'bob': 'python',\n",
    "#     'tom': 'javascript',\n",
    "#     'david': 'ruby',\n",
    "#     'jerry': 'c#',\n",
    "# }\n",
    "\n",
    "#创建了一个有序空字典\n",
    "vocabularies = OrderedDict()\n",
    "vocabularies['alex'] = 'c++'\n",
    "vocabularies['bob'] = 'python'\n",
    "vocabularies['tom'] = 'javascript'\n",
    "vocabularies['david'] = 'ruby'\n",
    "vocabularies['jerry'] = 'c#'\n",
    "\n",
    "for name, lang in vocabularies.items():\n",
    "    print('\\n' + name.title() + ' likes ' + lang.title())"
   ]
  },
  {
   "cell_type": "code",
   "execution_count": null,
   "metadata": {},
   "outputs": [],
   "source": []
  }
 ],
 "metadata": {
  "kernelspec": {
   "display_name": "Python 3",
   "language": "python",
   "name": "python3"
  },
  "language_info": {
   "codemirror_mode": {
    "name": "ipython",
    "version": 3
   },
   "file_extension": ".py",
   "mimetype": "text/x-python",
   "name": "python",
   "nbconvert_exporter": "python",
   "pygments_lexer": "ipython3",
   "version": "3.6.5"
  }
 },
 "nbformat": 4,
 "nbformat_minor": 2
}
