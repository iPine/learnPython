{
 "cells": [
  {
   "cell_type": "code",
   "execution_count": 4,
   "metadata": {},
   "outputs": [
    {
     "name": "stdout",
     "output_type": "stream",
     "text": [
      "可爱嘟 is opening!\n",
      "Ice cream has the following flavors: \n",
      "sweat\n",
      "vanilla\n",
      "chocolate\n"
     ]
    }
   ],
   "source": [
    "#父类\n",
    "class Restaurant:\n",
    "    def __init__(self,restaurant_name,cuisine_type):\n",
    "        self.restaurant_name = restaurant_name\n",
    "        self.cuisine_type = cuisine_type\n",
    "        #传入一个默认参数，形参就不需要设置；置为0或者为空字符串或者其他默认值\n",
    "        self.number_served = 0\n",
    "    \n",
    "    def describe_restaurant(self):\n",
    "        print(self.restaurant_name.title() + \"'s cuisine type is \" + self.cuisine_type + '.')\n",
    "    \n",
    "    def open_restaurant(self):\n",
    "        print(self.restaurant_name.title() + ' is opening!')\n",
    "    \n",
    "    def set_number_served(self,number):\n",
    "        self.number_served = number\n",
    " \n",
    "    def increment_number_served(self,increment_number):\n",
    "        self.number_served += increment_number\n",
    "        \n",
    "#子类\n",
    "class IceCreamStand(Restaurant):\n",
    "    def __init__(self,restaurant_name,cuisine_type):\n",
    "        super().__init__(restaurant_name,cuisine_type)\n",
    "        self.flavors = ['sweat','vanilla','chocolate']\n",
    "        \n",
    "    def show_flavors(self):\n",
    "        print('Ice cream has the following flavors: ')\n",
    "        for flavor in self.flavors:\n",
    "            print(flavor)\n",
    "\n",
    "iceCreamStand = IceCreamStand('可爱嘟','ice')\n",
    "iceCreamStand.open_restaurant()\n",
    "iceCreamStand.show_flavors()"
   ]
  },
  {
   "cell_type": "code",
   "execution_count": null,
   "metadata": {},
   "outputs": [],
   "source": []
  }
 ],
 "metadata": {
  "kernelspec": {
   "display_name": "Python 3",
   "language": "python",
   "name": "python3"
  },
  "language_info": {
   "codemirror_mode": {
    "name": "ipython",
    "version": 3
   },
   "file_extension": ".py",
   "mimetype": "text/x-python",
   "name": "python",
   "nbconvert_exporter": "python",
   "pygments_lexer": "ipython3",
   "version": "3.6.5"
  }
 },
 "nbformat": 4,
 "nbformat_minor": 2
}
