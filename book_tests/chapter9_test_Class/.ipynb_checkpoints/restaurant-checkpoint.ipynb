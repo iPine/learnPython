{
 "cells": [
  {
   "cell_type": "code",
   "execution_count": 10,
   "metadata": {},
   "outputs": [
    {
     "name": "stdout",
     "output_type": "stream",
     "text": [
      "xiaoxiao\n",
      "chuancai\n",
      "Xiaoxiao's cuisine type is chuancai.\n",
      "Xiaoxiao is opening!\n",
      "The number of diners: 10\n",
      "The number of diners: 15\n",
      "The number of diners: 25\n"
     ]
    }
   ],
   "source": [
    "class Restaurant:\n",
    "    def __init__(self,restaurant_name,cuisine_type):\n",
    "        self.restaurant_name = restaurant_name\n",
    "        self.cuisine_type = cuisine_type\n",
    "        #传入一个默认参数，形参就不需要设置；置为0或者为空字符串或者其他默认值\n",
    "        self.number_served = 0\n",
    "    \n",
    "    def describe_restaurant(self):\n",
    "        print(self.restaurant_name.title() + \"'s cuisine type is \" + self.cuisine_type + '.')\n",
    "    \n",
    "    def open_restaurant(self):\n",
    "        print(self.restaurant_name.title() + ' is opening!')\n",
    "    \n",
    "    def set_number_served(self,number):\n",
    "        self.number_served = number\n",
    "        \n",
    "    \n",
    "    def increment_number_served(self,increment_number):\n",
    "        self.number_served += increment_number\n",
    "        \n",
    "restaurant = Restaurant('xiaoxiao','chuancai')\n",
    "print(restaurant.restaurant_name)\n",
    "print(restaurant.cuisine_type)\n",
    "restaurant.describe_restaurant()\n",
    "restaurant.open_restaurant()\n",
    "\n",
    "#直接修改属性值\n",
    "restaurant.number_served = 10\n",
    "print('The number of diners: '+ str(restaurant.number_served))\n",
    "#通过调用方法修改属性\n",
    "restaurant.set_number_served(15)\n",
    "print('The number of diners: '+ str(restaurant.number_served))\n",
    "#通过调用方法给属性增加特定值\n",
    "restaurant.increment_number_served(10)\n",
    "print('The number of diners: '+ str(restaurant.number_served))\n"
   ]
  },
  {
   "cell_type": "code",
   "execution_count": 7,
   "metadata": {},
   "outputs": [
    {
     "name": "stdout",
     "output_type": "stream",
     "text": [
      "Huahua's cuisine type is xiangcai.\n",
      "Zhangbaba's cuisine type is yuecai.\n"
     ]
    }
   ],
   "source": [
    "restaurant_1 = Restaurant('huahua','xiangcai')\n",
    "restaurant_1.describe_restaurant()\n",
    "\n",
    "restaurant_2 = Restaurant('zhangbaba','yuecai')\n",
    "restaurant_2.describe_restaurant()"
   ]
  },
  {
   "cell_type": "code",
   "execution_count": null,
   "metadata": {},
   "outputs": [],
   "source": []
  }
 ],
 "metadata": {
  "kernelspec": {
   "display_name": "Python 3",
   "language": "python",
   "name": "python3"
  },
  "language_info": {
   "codemirror_mode": {
    "name": "ipython",
    "version": 3
   },
   "file_extension": ".py",
   "mimetype": "text/x-python",
   "name": "python",
   "nbconvert_exporter": "python",
   "pygments_lexer": "ipython3",
   "version": "3.6.5"
  }
 },
 "nbformat": 4,
 "nbformat_minor": 2
}
