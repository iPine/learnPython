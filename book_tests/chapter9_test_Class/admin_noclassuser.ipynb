{
 "cells": [
  {
   "cell_type": "code",
   "execution_count": null,
   "metadata": {},
   "outputs": [],
   "source": [
    "\n",
    "#导入依赖的父模块\n",
    "from user import User\n",
    "\n",
    "#提取的独立类\n",
    "class Privileges():\n",
    "    def __init__(self,privileges=[ \"can add post\",\"can delete post\",\"can ban user\"]):\n",
    "        self.privileges = privileges\n",
    "    \n",
    "    def show_privileges(self):\n",
    "        print('Admin has the following privileges: ')\n",
    "        for privilege in self.privileges:\n",
    "            print(privilege)\n",
    "\n",
    "class Admin(User):\n",
    "    def __init__(self,first_name,last_name,location):\n",
    "        super().__init__(first_name,last_name,location)\n",
    "#         self.privileges = [ \"can add post\",\"can delete post\",\"can ban user\"]\n",
    "        self.privileges = Privileges()\n"
   ]
  }
 ],
 "metadata": {
  "kernelspec": {
   "display_name": "Python 3",
   "language": "python",
   "name": "python3"
  },
  "language_info": {
   "codemirror_mode": {
    "name": "ipython",
    "version": 3
   },
   "file_extension": ".py",
   "mimetype": "text/x-python",
   "name": "python",
   "nbconvert_exporter": "python",
   "pygments_lexer": "ipython3",
   "version": "3.6.5"
  }
 },
 "nbformat": 4,
 "nbformat_minor": 2
}
