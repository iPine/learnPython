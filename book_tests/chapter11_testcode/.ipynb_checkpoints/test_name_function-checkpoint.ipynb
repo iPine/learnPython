{
 "cells": [
  {
   "cell_type": "code",
   "execution_count": 1,
   "metadata": {},
   "outputs": [
    {
     "name": "stderr",
     "output_type": "stream",
     "text": [
      "test_first_last_middle_name (__main__.NamesTestCase)\n",
      "能够正确地处理像Wolfgang Amadeus Mozart这样的姓名吗？ ... ok\n",
      "test_first_last_name (__main__.NamesTestCase)\n",
      "能够正确处理像Ipine Luo这样的姓名吗 ... ok\n",
      "\n",
      "----------------------------------------------------------------------\n",
      "Ran 2 tests in 0.005s\n",
      "\n",
      "OK\n"
     ]
    }
   ],
   "source": [
    "import unittest\n",
    "from name_function import get_formatted_name\n",
    "\n",
    "class NamesTestCase(unittest.TestCase):\n",
    "    \"\"\"测试name_function.py\"\"\"\n",
    "    \n",
    "    def test_first_last_name(self):\n",
    "        \"\"\"能够正确处理像Ipine Luo这样的姓名吗\"\"\"\n",
    "        formatted_name = get_formatted_name('ipine','luo')\n",
    "        self.assertEqual(formatted_name,'Ipine Luo')\n",
    "        \n",
    "    def test_first_last_middle_name(self):\n",
    "        \"\"\"能够正确地处理像Wolfgang Amadeus Mozart这样的姓名吗？\"\"\"\n",
    "        formatted_name = get_formatted_name('wolfgang', 'mozart', 'amadeus')\n",
    "        self.assertEqual(formatted_name,'Wolfgang Amadeus Mozart')\n",
    "\n",
    "if __name__ == '__main__':\n",
    "    #main()若无参数，则会报AttributeError\n",
    "#     unittest.main(argv=['first-arg-is-ignored'], exit=False)\n",
    "    unittest.main(argv=['ignored', '-v'], exit=False)"
   ]
  },
  {
   "cell_type": "code",
   "execution_count": null,
   "metadata": {},
   "outputs": [],
   "source": []
  }
 ],
 "metadata": {
  "kernelspec": {
   "display_name": "Python 3",
   "language": "python",
   "name": "python3"
  },
  "language_info": {
   "codemirror_mode": {
    "name": "ipython",
    "version": 3
   },
   "file_extension": ".py",
   "mimetype": "text/x-python",
   "name": "python",
   "nbconvert_exporter": "python",
   "pygments_lexer": "ipython3",
   "version": "3.6.5"
  }
 },
 "nbformat": 4,
 "nbformat_minor": 2
}
