{
 "cells": [
  {
   "cell_type": "code",
   "execution_count": 3,
   "metadata": {},
   "outputs": [
    {
     "name": "stderr",
     "output_type": "stream",
     "text": [
      "test_store_single_response (__main__.TestAnonymousSurvey)\n",
      "测试单个答案会被妥善地存储 ... ok\n",
      "test_store_three_responses (__main__.TestAnonymousSurvey)\n",
      "测试三个答案会被妥善地存储 ... ok\n",
      "\n",
      "----------------------------------------------------------------------\n",
      "Ran 2 tests in 0.002s\n",
      "\n",
      "OK\n"
     ]
    },
    {
     "data": {
      "text/plain": [
       "<unittest.main.TestProgram at 0x24d1f08cd30>"
      ]
     },
     "execution_count": 3,
     "metadata": {},
     "output_type": "execute_result"
    }
   ],
   "source": [
    "\"\"\"测试AnonymousSurvey类\"\"\"\n",
    "import unittest\n",
    "from survey import AnonymousSurvey\n",
    "\n",
    "class TestAnonymousSurvey(unittest.TestCase):\n",
    "    \"\"\"针对AnonymousSurvey类的测试\"\"\"\n",
    "\n",
    "    #之前的两个测试方法，都创建了AnonymousSurvey实例，也都创建了答案\n",
    "    #使用setUp()方法，只需创建这些对象一次，其他两个方法都能使用\n",
    "    def setUp(self):\n",
    "        \"\"\"创建一个调查对象和一组答案，供使用的测试方法使用\"\"\"\n",
    "        question = \"What language did you first lean to speak?\"\n",
    "        #存储这两样东西的变量名包含前缀 self （即存储在属性中），因此可在这个类的任何地方使用。\n",
    "        self.my_survey = AnonymousSurvey(question)\n",
    "        self.responses = ['English', 'Spanish', 'Mandarin']\n",
    "    \n",
    "    def test_store_single_response(self):\n",
    "        \"\"\"测试单个答案会被妥善地存储\"\"\"\n",
    "        self.my_survey.store_response(self.responses[0])       \n",
    "        self.assertIn(self.responses[0],self.my_survey.responses)\n",
    "    \n",
    "    def test_store_three_responses(self):\n",
    "        \"\"\"测试三个答案会被妥善地存储\"\"\"\n",
    "        for response in self.responses:\n",
    "            self.my_survey.store_response(response)     \n",
    "            self.assertIn(response,self.my_survey.responses)\n",
    "\n",
    "        \n",
    "unittest.main(argv=['ingored','-v'],exit=False)"
   ]
  },
  {
   "cell_type": "code",
   "execution_count": null,
   "metadata": {},
   "outputs": [],
   "source": []
  }
 ],
 "metadata": {
  "kernelspec": {
   "display_name": "Python 3",
   "language": "python",
   "name": "python3"
  },
  "language_info": {
   "codemirror_mode": {
    "name": "ipython",
    "version": 3
   },
   "file_extension": ".py",
   "mimetype": "text/x-python",
   "name": "python",
   "nbconvert_exporter": "python",
   "pygments_lexer": "ipython3",
   "version": "3.6.5"
  }
 },
 "nbformat": 4,
 "nbformat_minor": 2
}
