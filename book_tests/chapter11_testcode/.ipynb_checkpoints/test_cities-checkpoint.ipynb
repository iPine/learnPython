{
 "cells": [
  {
   "cell_type": "code",
   "execution_count": 3,
   "metadata": {},
   "outputs": [
    {
     "name": "stderr",
     "output_type": "stream",
     "text": [
      "test_city_country (__main__.CityCountryNameTestCase) ... ok\n",
      "test_city_country_population (__main__.CityCountryNameTestCase) ... ok\n",
      "\n",
      "----------------------------------------------------------------------\n",
      "Ran 2 tests in 0.002s\n",
      "\n",
      "OK\n"
     ]
    },
    {
     "data": {
      "text/plain": [
       "<unittest.main.TestProgram at 0x1cac72b14a8>"
      ]
     },
     "execution_count": 3,
     "metadata": {},
     "output_type": "execute_result"
    }
   ],
   "source": [
    "import unittest\n",
    "from city_functions import city_country_population\n",
    "\n",
    "class CityCountryNameTestCase(unittest.TestCase):\n",
    "    \n",
    "    def test_city_country(self):\n",
    "        city_country_res = city_country_population('chengdu','china')\n",
    "        self.assertEqual(city_country_res,'Chengdu,China')\n",
    "\n",
    "    def test_city_country_population(self):\n",
    "        city_country_population_res = city_country_population('chengdu','china',population = 500000)\n",
    "        self.assertEqual(city_country_population_res,'Chengdu,China - population 500000')\n",
    "        \n",
    "unittest.main(argv=['ignored', '-v'], exit=False)"
   ]
  },
  {
   "cell_type": "code",
   "execution_count": null,
   "metadata": {},
   "outputs": [],
   "source": []
  }
 ],
 "metadata": {
  "kernelspec": {
   "display_name": "Python 3",
   "language": "python",
   "name": "python3"
  },
  "language_info": {
   "codemirror_mode": {
    "name": "ipython",
    "version": 3
   },
   "file_extension": ".py",
   "mimetype": "text/x-python",
   "name": "python",
   "nbconvert_exporter": "python",
   "pygments_lexer": "ipython3",
   "version": "3.6.5"
  }
 },
 "nbformat": 4,
 "nbformat_minor": 2
}
