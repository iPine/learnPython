{
 "cells": [
  {
   "cell_type": "code",
   "execution_count": 2,
   "metadata": {},
   "outputs": [
    {
     "name": "stderr",
     "output_type": "stream",
     "text": [
      "test_give_custom_raise (__main__.TestEmployeeCase) ... ok\n",
      "test_give_default_raise (__main__.TestEmployeeCase) ... ok\n",
      "\n",
      "----------------------------------------------------------------------\n",
      "Ran 2 tests in 0.005s\n",
      "\n",
      "OK\n"
     ]
    },
    {
     "data": {
      "text/plain": [
       "<unittest.main.TestProgram at 0x19368685630>"
      ]
     },
     "execution_count": 2,
     "metadata": {},
     "output_type": "execute_result"
    }
   ],
   "source": [
    "import unittest\n",
    "from employee import Employee\n",
    "\n",
    "class TestEmployeeCase(unittest.TestCase):\n",
    "    \"\"\"针对Empolyee类的测试\"\"\"\n",
    "    \n",
    "    def setUp(self):\n",
    "        self.new_empolyee = Employee('jundong','li',50000)\n",
    "        \n",
    "    def test_give_default_raise(self):\n",
    "        \"\"\"测试增加默认薪水是否正确\"\"\"\n",
    "        self.add = self.new_empolyee.give_raise()\n",
    "        self.assertEqual(self.add,55000)\n",
    "        \n",
    "    def test_give_custom_raise(self):\n",
    "        \"\"\"测试增加自定义薪水值是否正确\"\"\"\n",
    "        self.add = self.new_empolyee.give_raise(6000)\n",
    "        self.assertEqual(self.add,56000)\n",
    "        \n",
    "unittest.main(argv=['ingored','-v'],exit=False)\n",
    "    "
   ]
  },
  {
   "cell_type": "code",
   "execution_count": null,
   "metadata": {},
   "outputs": [],
   "source": []
  }
 ],
 "metadata": {
  "kernelspec": {
   "display_name": "Python 3",
   "language": "python",
   "name": "python3"
  },
  "language_info": {
   "codemirror_mode": {
    "name": "ipython",
    "version": 3
   },
   "file_extension": ".py",
   "mimetype": "text/x-python",
   "name": "python",
   "nbconvert_exporter": "python",
   "pygments_lexer": "ipython3",
   "version": "3.6.5"
  }
 },
 "nbformat": 4,
 "nbformat_minor": 2
}
